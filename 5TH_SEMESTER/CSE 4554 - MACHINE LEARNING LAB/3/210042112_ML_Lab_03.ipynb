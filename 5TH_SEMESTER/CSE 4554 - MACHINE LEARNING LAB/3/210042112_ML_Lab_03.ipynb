{
  "metadata": {
    "kernelspec": {
      "display_name": "Python 3",
      "name": "python3"
    },
    "language_info": {
      "name": "python",
      "version": "3.10.14",
      "mimetype": "text/x-python",
      "codemirror_mode": {
        "name": "ipython",
        "version": 3
      },
      "pygments_lexer": "ipython3",
      "nbconvert_exporter": "python",
      "file_extension": ".py"
    },
    "kaggle": {
      "accelerator": "none",
      "dataSources": [
        {
          "sourceId": 478477,
          "sourceType": "datasetVersion",
          "datasetId": 222487
        }
      ],
      "dockerImageVersionId": 30775,
      "isInternetEnabled": true,
      "language": "python",
      "sourceType": "notebook",
      "isGpuEnabled": false
    },
    "colab": {
      "provenance": [],
      "gpuType": "T4",
      "toc_visible": true
    },
    "accelerator": "GPU"
  },
  "nbformat_minor": 0,
  "nbformat": 4,
  "cells": [
    {
      "cell_type": "markdown",
      "source": [
        "#210042112\n",
        "All the explanations are given in the cell above the actual task."
      ],
      "metadata": {
        "id": "FChmR3xc6exS"
      }
    },
    {
      "cell_type": "markdown",
      "source": [
        "# Task 1: Load Dataset\n",
        "\n",
        " >Load the classification dataset. Explore the dataset using pandas methods such as head(), info(),\n",
        " and describe()."
      ],
      "metadata": {
        "id": "8e8w6QMhMpId"
      }
    },
    {
      "cell_type": "markdown",
      "source": [
        "## Dataset Downloading\n",
        ""
      ],
      "metadata": {
        "id": "V3amY2qS0wH_"
      }
    },
    {
      "cell_type": "markdown",
      "source": [
        "\n",
        "The link in the skeleton code given to import the dataset was expired.So I uploaded the dataset in my google drive and mounted it from there."
      ],
      "metadata": {
        "id": "YGhaaK8NqDJN"
      }
    },
    {
      "cell_type": "code",
      "source": [
        "from google.colab import drive\n",
        "\n",
        "import pandas as pd\n",
        "drive.mount('/content/drive')\n",
        "data = pd.read_csv('/content/drive/My Drive/framingham.csv')\n"
      ],
      "metadata": {
        "colab": {
          "base_uri": "https://localhost:8080/"
        },
        "id": "oz3vNfUIPSWc",
        "outputId": "a8fb38b5-96f6-4c2e-e440-5e5b081dd66d"
      },
      "execution_count": 304,
      "outputs": [
        {
          "output_type": "stream",
          "name": "stdout",
          "text": [
            "Drive already mounted at /content/drive; to attempt to forcibly remount, call drive.mount(\"/content/drive\", force_remount=True).\n"
          ]
        }
      ]
    },
    {
      "cell_type": "markdown",
      "source": [
        "## Data Cleaning"
      ],
      "metadata": {
        "id": "8kRHM3PUz8lE"
      }
    },
    {
      "cell_type": "markdown",
      "source": [
        "The first five"
      ],
      "metadata": {
        "id": "pspH35K0qLyK"
      }
    },
    {
      "cell_type": "code",
      "source": [
        "data.head()"
      ],
      "metadata": {
        "execution": {
          "iopub.status.busy": "2024-10-07T21:07:47.674816Z",
          "iopub.execute_input": "2024-10-07T21:07:47.675335Z",
          "iopub.status.idle": "2024-10-07T21:07:47.70679Z",
          "shell.execute_reply.started": "2024-10-07T21:07:47.67525Z",
          "shell.execute_reply": "2024-10-07T21:07:47.705524Z"
        },
        "trusted": true,
        "id": "qVnV31d8z8lF",
        "outputId": "5a275d07-dec5-4505-b3ea-659a16b0aa86",
        "colab": {
          "base_uri": "https://localhost:8080/",
          "height": 226
        }
      },
      "execution_count": 305,
      "outputs": [
        {
          "output_type": "execute_result",
          "data": {
            "text/plain": [
              "   male  age  education  currentSmoker  cigsPerDay  BPMeds  prevalentStroke  \\\n",
              "0     1   39        4.0              0         0.0     0.0                0   \n",
              "1     0   46        2.0              0         0.0     0.0                0   \n",
              "2     1   48        1.0              1        20.0     0.0                0   \n",
              "3     0   61        3.0              1        30.0     0.0                0   \n",
              "4     0   46        3.0              1        23.0     0.0                0   \n",
              "\n",
              "   prevalentHyp  diabetes  totChol  sysBP  diaBP    BMI  heartRate  glucose  \\\n",
              "0             0         0    195.0  106.0   70.0  26.97       80.0     77.0   \n",
              "1             0         0    250.0  121.0   81.0  28.73       95.0     76.0   \n",
              "2             0         0    245.0  127.5   80.0  25.34       75.0     70.0   \n",
              "3             1         0    225.0  150.0   95.0  28.58       65.0    103.0   \n",
              "4             0         0    285.0  130.0   84.0  23.10       85.0     85.0   \n",
              "\n",
              "   TenYearCHD  \n",
              "0           0  \n",
              "1           0  \n",
              "2           0  \n",
              "3           1  \n",
              "4           0  "
            ],
            "text/html": [
              "\n",
              "  <div id=\"df-b2dfedd4-60be-48d0-856c-f7fb457f07b9\" class=\"colab-df-container\">\n",
              "    <div>\n",
              "<style scoped>\n",
              "    .dataframe tbody tr th:only-of-type {\n",
              "        vertical-align: middle;\n",
              "    }\n",
              "\n",
              "    .dataframe tbody tr th {\n",
              "        vertical-align: top;\n",
              "    }\n",
              "\n",
              "    .dataframe thead th {\n",
              "        text-align: right;\n",
              "    }\n",
              "</style>\n",
              "<table border=\"1\" class=\"dataframe\">\n",
              "  <thead>\n",
              "    <tr style=\"text-align: right;\">\n",
              "      <th></th>\n",
              "      <th>male</th>\n",
              "      <th>age</th>\n",
              "      <th>education</th>\n",
              "      <th>currentSmoker</th>\n",
              "      <th>cigsPerDay</th>\n",
              "      <th>BPMeds</th>\n",
              "      <th>prevalentStroke</th>\n",
              "      <th>prevalentHyp</th>\n",
              "      <th>diabetes</th>\n",
              "      <th>totChol</th>\n",
              "      <th>sysBP</th>\n",
              "      <th>diaBP</th>\n",
              "      <th>BMI</th>\n",
              "      <th>heartRate</th>\n",
              "      <th>glucose</th>\n",
              "      <th>TenYearCHD</th>\n",
              "    </tr>\n",
              "  </thead>\n",
              "  <tbody>\n",
              "    <tr>\n",
              "      <th>0</th>\n",
              "      <td>1</td>\n",
              "      <td>39</td>\n",
              "      <td>4.0</td>\n",
              "      <td>0</td>\n",
              "      <td>0.0</td>\n",
              "      <td>0.0</td>\n",
              "      <td>0</td>\n",
              "      <td>0</td>\n",
              "      <td>0</td>\n",
              "      <td>195.0</td>\n",
              "      <td>106.0</td>\n",
              "      <td>70.0</td>\n",
              "      <td>26.97</td>\n",
              "      <td>80.0</td>\n",
              "      <td>77.0</td>\n",
              "      <td>0</td>\n",
              "    </tr>\n",
              "    <tr>\n",
              "      <th>1</th>\n",
              "      <td>0</td>\n",
              "      <td>46</td>\n",
              "      <td>2.0</td>\n",
              "      <td>0</td>\n",
              "      <td>0.0</td>\n",
              "      <td>0.0</td>\n",
              "      <td>0</td>\n",
              "      <td>0</td>\n",
              "      <td>0</td>\n",
              "      <td>250.0</td>\n",
              "      <td>121.0</td>\n",
              "      <td>81.0</td>\n",
              "      <td>28.73</td>\n",
              "      <td>95.0</td>\n",
              "      <td>76.0</td>\n",
              "      <td>0</td>\n",
              "    </tr>\n",
              "    <tr>\n",
              "      <th>2</th>\n",
              "      <td>1</td>\n",
              "      <td>48</td>\n",
              "      <td>1.0</td>\n",
              "      <td>1</td>\n",
              "      <td>20.0</td>\n",
              "      <td>0.0</td>\n",
              "      <td>0</td>\n",
              "      <td>0</td>\n",
              "      <td>0</td>\n",
              "      <td>245.0</td>\n",
              "      <td>127.5</td>\n",
              "      <td>80.0</td>\n",
              "      <td>25.34</td>\n",
              "      <td>75.0</td>\n",
              "      <td>70.0</td>\n",
              "      <td>0</td>\n",
              "    </tr>\n",
              "    <tr>\n",
              "      <th>3</th>\n",
              "      <td>0</td>\n",
              "      <td>61</td>\n",
              "      <td>3.0</td>\n",
              "      <td>1</td>\n",
              "      <td>30.0</td>\n",
              "      <td>0.0</td>\n",
              "      <td>0</td>\n",
              "      <td>1</td>\n",
              "      <td>0</td>\n",
              "      <td>225.0</td>\n",
              "      <td>150.0</td>\n",
              "      <td>95.0</td>\n",
              "      <td>28.58</td>\n",
              "      <td>65.0</td>\n",
              "      <td>103.0</td>\n",
              "      <td>1</td>\n",
              "    </tr>\n",
              "    <tr>\n",
              "      <th>4</th>\n",
              "      <td>0</td>\n",
              "      <td>46</td>\n",
              "      <td>3.0</td>\n",
              "      <td>1</td>\n",
              "      <td>23.0</td>\n",
              "      <td>0.0</td>\n",
              "      <td>0</td>\n",
              "      <td>0</td>\n",
              "      <td>0</td>\n",
              "      <td>285.0</td>\n",
              "      <td>130.0</td>\n",
              "      <td>84.0</td>\n",
              "      <td>23.10</td>\n",
              "      <td>85.0</td>\n",
              "      <td>85.0</td>\n",
              "      <td>0</td>\n",
              "    </tr>\n",
              "  </tbody>\n",
              "</table>\n",
              "</div>\n",
              "    <div class=\"colab-df-buttons\">\n",
              "\n",
              "  <div class=\"colab-df-container\">\n",
              "    <button class=\"colab-df-convert\" onclick=\"convertToInteractive('df-b2dfedd4-60be-48d0-856c-f7fb457f07b9')\"\n",
              "            title=\"Convert this dataframe to an interactive table.\"\n",
              "            style=\"display:none;\">\n",
              "\n",
              "  <svg xmlns=\"http://www.w3.org/2000/svg\" height=\"24px\" viewBox=\"0 -960 960 960\">\n",
              "    <path d=\"M120-120v-720h720v720H120Zm60-500h600v-160H180v160Zm220 220h160v-160H400v160Zm0 220h160v-160H400v160ZM180-400h160v-160H180v160Zm440 0h160v-160H620v160ZM180-180h160v-160H180v160Zm440 0h160v-160H620v160Z\"/>\n",
              "  </svg>\n",
              "    </button>\n",
              "\n",
              "  <style>\n",
              "    .colab-df-container {\n",
              "      display:flex;\n",
              "      gap: 12px;\n",
              "    }\n",
              "\n",
              "    .colab-df-convert {\n",
              "      background-color: #E8F0FE;\n",
              "      border: none;\n",
              "      border-radius: 50%;\n",
              "      cursor: pointer;\n",
              "      display: none;\n",
              "      fill: #1967D2;\n",
              "      height: 32px;\n",
              "      padding: 0 0 0 0;\n",
              "      width: 32px;\n",
              "    }\n",
              "\n",
              "    .colab-df-convert:hover {\n",
              "      background-color: #E2EBFA;\n",
              "      box-shadow: 0px 1px 2px rgba(60, 64, 67, 0.3), 0px 1px 3px 1px rgba(60, 64, 67, 0.15);\n",
              "      fill: #174EA6;\n",
              "    }\n",
              "\n",
              "    .colab-df-buttons div {\n",
              "      margin-bottom: 4px;\n",
              "    }\n",
              "\n",
              "    [theme=dark] .colab-df-convert {\n",
              "      background-color: #3B4455;\n",
              "      fill: #D2E3FC;\n",
              "    }\n",
              "\n",
              "    [theme=dark] .colab-df-convert:hover {\n",
              "      background-color: #434B5C;\n",
              "      box-shadow: 0px 1px 3px 1px rgba(0, 0, 0, 0.15);\n",
              "      filter: drop-shadow(0px 1px 2px rgba(0, 0, 0, 0.3));\n",
              "      fill: #FFFFFF;\n",
              "    }\n",
              "  </style>\n",
              "\n",
              "    <script>\n",
              "      const buttonEl =\n",
              "        document.querySelector('#df-b2dfedd4-60be-48d0-856c-f7fb457f07b9 button.colab-df-convert');\n",
              "      buttonEl.style.display =\n",
              "        google.colab.kernel.accessAllowed ? 'block' : 'none';\n",
              "\n",
              "      async function convertToInteractive(key) {\n",
              "        const element = document.querySelector('#df-b2dfedd4-60be-48d0-856c-f7fb457f07b9');\n",
              "        const dataTable =\n",
              "          await google.colab.kernel.invokeFunction('convertToInteractive',\n",
              "                                                    [key], {});\n",
              "        if (!dataTable) return;\n",
              "\n",
              "        const docLinkHtml = 'Like what you see? Visit the ' +\n",
              "          '<a target=\"_blank\" href=https://colab.research.google.com/notebooks/data_table.ipynb>data table notebook</a>'\n",
              "          + ' to learn more about interactive tables.';\n",
              "        element.innerHTML = '';\n",
              "        dataTable['output_type'] = 'display_data';\n",
              "        await google.colab.output.renderOutput(dataTable, element);\n",
              "        const docLink = document.createElement('div');\n",
              "        docLink.innerHTML = docLinkHtml;\n",
              "        element.appendChild(docLink);\n",
              "      }\n",
              "    </script>\n",
              "  </div>\n",
              "\n",
              "\n",
              "<div id=\"df-53fa1f03-130d-44d4-85f9-2652cf0a6273\">\n",
              "  <button class=\"colab-df-quickchart\" onclick=\"quickchart('df-53fa1f03-130d-44d4-85f9-2652cf0a6273')\"\n",
              "            title=\"Suggest charts\"\n",
              "            style=\"display:none;\">\n",
              "\n",
              "<svg xmlns=\"http://www.w3.org/2000/svg\" height=\"24px\"viewBox=\"0 0 24 24\"\n",
              "     width=\"24px\">\n",
              "    <g>\n",
              "        <path d=\"M19 3H5c-1.1 0-2 .9-2 2v14c0 1.1.9 2 2 2h14c1.1 0 2-.9 2-2V5c0-1.1-.9-2-2-2zM9 17H7v-7h2v7zm4 0h-2V7h2v10zm4 0h-2v-4h2v4z\"/>\n",
              "    </g>\n",
              "</svg>\n",
              "  </button>\n",
              "\n",
              "<style>\n",
              "  .colab-df-quickchart {\n",
              "      --bg-color: #E8F0FE;\n",
              "      --fill-color: #1967D2;\n",
              "      --hover-bg-color: #E2EBFA;\n",
              "      --hover-fill-color: #174EA6;\n",
              "      --disabled-fill-color: #AAA;\n",
              "      --disabled-bg-color: #DDD;\n",
              "  }\n",
              "\n",
              "  [theme=dark] .colab-df-quickchart {\n",
              "      --bg-color: #3B4455;\n",
              "      --fill-color: #D2E3FC;\n",
              "      --hover-bg-color: #434B5C;\n",
              "      --hover-fill-color: #FFFFFF;\n",
              "      --disabled-bg-color: #3B4455;\n",
              "      --disabled-fill-color: #666;\n",
              "  }\n",
              "\n",
              "  .colab-df-quickchart {\n",
              "    background-color: var(--bg-color);\n",
              "    border: none;\n",
              "    border-radius: 50%;\n",
              "    cursor: pointer;\n",
              "    display: none;\n",
              "    fill: var(--fill-color);\n",
              "    height: 32px;\n",
              "    padding: 0;\n",
              "    width: 32px;\n",
              "  }\n",
              "\n",
              "  .colab-df-quickchart:hover {\n",
              "    background-color: var(--hover-bg-color);\n",
              "    box-shadow: 0 1px 2px rgba(60, 64, 67, 0.3), 0 1px 3px 1px rgba(60, 64, 67, 0.15);\n",
              "    fill: var(--button-hover-fill-color);\n",
              "  }\n",
              "\n",
              "  .colab-df-quickchart-complete:disabled,\n",
              "  .colab-df-quickchart-complete:disabled:hover {\n",
              "    background-color: var(--disabled-bg-color);\n",
              "    fill: var(--disabled-fill-color);\n",
              "    box-shadow: none;\n",
              "  }\n",
              "\n",
              "  .colab-df-spinner {\n",
              "    border: 2px solid var(--fill-color);\n",
              "    border-color: transparent;\n",
              "    border-bottom-color: var(--fill-color);\n",
              "    animation:\n",
              "      spin 1s steps(1) infinite;\n",
              "  }\n",
              "\n",
              "  @keyframes spin {\n",
              "    0% {\n",
              "      border-color: transparent;\n",
              "      border-bottom-color: var(--fill-color);\n",
              "      border-left-color: var(--fill-color);\n",
              "    }\n",
              "    20% {\n",
              "      border-color: transparent;\n",
              "      border-left-color: var(--fill-color);\n",
              "      border-top-color: var(--fill-color);\n",
              "    }\n",
              "    30% {\n",
              "      border-color: transparent;\n",
              "      border-left-color: var(--fill-color);\n",
              "      border-top-color: var(--fill-color);\n",
              "      border-right-color: var(--fill-color);\n",
              "    }\n",
              "    40% {\n",
              "      border-color: transparent;\n",
              "      border-right-color: var(--fill-color);\n",
              "      border-top-color: var(--fill-color);\n",
              "    }\n",
              "    60% {\n",
              "      border-color: transparent;\n",
              "      border-right-color: var(--fill-color);\n",
              "    }\n",
              "    80% {\n",
              "      border-color: transparent;\n",
              "      border-right-color: var(--fill-color);\n",
              "      border-bottom-color: var(--fill-color);\n",
              "    }\n",
              "    90% {\n",
              "      border-color: transparent;\n",
              "      border-bottom-color: var(--fill-color);\n",
              "    }\n",
              "  }\n",
              "</style>\n",
              "\n",
              "  <script>\n",
              "    async function quickchart(key) {\n",
              "      const quickchartButtonEl =\n",
              "        document.querySelector('#' + key + ' button');\n",
              "      quickchartButtonEl.disabled = true;  // To prevent multiple clicks.\n",
              "      quickchartButtonEl.classList.add('colab-df-spinner');\n",
              "      try {\n",
              "        const charts = await google.colab.kernel.invokeFunction(\n",
              "            'suggestCharts', [key], {});\n",
              "      } catch (error) {\n",
              "        console.error('Error during call to suggestCharts:', error);\n",
              "      }\n",
              "      quickchartButtonEl.classList.remove('colab-df-spinner');\n",
              "      quickchartButtonEl.classList.add('colab-df-quickchart-complete');\n",
              "    }\n",
              "    (() => {\n",
              "      let quickchartButtonEl =\n",
              "        document.querySelector('#df-53fa1f03-130d-44d4-85f9-2652cf0a6273 button');\n",
              "      quickchartButtonEl.style.display =\n",
              "        google.colab.kernel.accessAllowed ? 'block' : 'none';\n",
              "    })();\n",
              "  </script>\n",
              "</div>\n",
              "\n",
              "    </div>\n",
              "  </div>\n"
            ],
            "application/vnd.google.colaboratory.intrinsic+json": {
              "type": "dataframe",
              "variable_name": "data",
              "summary": "{\n  \"name\": \"data\",\n  \"rows\": 4238,\n  \"fields\": [\n    {\n      \"column\": \"male\",\n      \"properties\": {\n        \"dtype\": \"number\",\n        \"std\": 0,\n        \"min\": 0,\n        \"max\": 1,\n        \"num_unique_values\": 2,\n        \"samples\": [\n          0,\n          1\n        ],\n        \"semantic_type\": \"\",\n        \"description\": \"\"\n      }\n    },\n    {\n      \"column\": \"age\",\n      \"properties\": {\n        \"dtype\": \"number\",\n        \"std\": 8,\n        \"min\": 32,\n        \"max\": 70,\n        \"num_unique_values\": 39,\n        \"samples\": [\n          34,\n          70\n        ],\n        \"semantic_type\": \"\",\n        \"description\": \"\"\n      }\n    },\n    {\n      \"column\": \"education\",\n      \"properties\": {\n        \"dtype\": \"number\",\n        \"std\": 1.0197906893121875,\n        \"min\": 1.0,\n        \"max\": 4.0,\n        \"num_unique_values\": 4,\n        \"samples\": [\n          2.0,\n          3.0\n        ],\n        \"semantic_type\": \"\",\n        \"description\": \"\"\n      }\n    },\n    {\n      \"column\": \"currentSmoker\",\n      \"properties\": {\n        \"dtype\": \"number\",\n        \"std\": 0,\n        \"min\": 0,\n        \"max\": 1,\n        \"num_unique_values\": 2,\n        \"samples\": [\n          1,\n          0\n        ],\n        \"semantic_type\": \"\",\n        \"description\": \"\"\n      }\n    },\n    {\n      \"column\": \"cigsPerDay\",\n      \"properties\": {\n        \"dtype\": \"number\",\n        \"std\": 11.920093587827843,\n        \"min\": 0.0,\n        \"max\": 70.0,\n        \"num_unique_values\": 33,\n        \"samples\": [\n          19.0,\n          4.0\n        ],\n        \"semantic_type\": \"\",\n        \"description\": \"\"\n      }\n    },\n    {\n      \"column\": \"BPMeds\",\n      \"properties\": {\n        \"dtype\": \"number\",\n        \"std\": 0.16958356790199888,\n        \"min\": 0.0,\n        \"max\": 1.0,\n        \"num_unique_values\": 2,\n        \"samples\": [\n          1.0,\n          0.0\n        ],\n        \"semantic_type\": \"\",\n        \"description\": \"\"\n      }\n    },\n    {\n      \"column\": \"prevalentStroke\",\n      \"properties\": {\n        \"dtype\": \"number\",\n        \"std\": 0,\n        \"min\": 0,\n        \"max\": 1,\n        \"num_unique_values\": 2,\n        \"samples\": [\n          1,\n          0\n        ],\n        \"semantic_type\": \"\",\n        \"description\": \"\"\n      }\n    },\n    {\n      \"column\": \"prevalentHyp\",\n      \"properties\": {\n        \"dtype\": \"number\",\n        \"std\": 0,\n        \"min\": 0,\n        \"max\": 1,\n        \"num_unique_values\": 2,\n        \"samples\": [\n          1,\n          0\n        ],\n        \"semantic_type\": \"\",\n        \"description\": \"\"\n      }\n    },\n    {\n      \"column\": \"diabetes\",\n      \"properties\": {\n        \"dtype\": \"number\",\n        \"std\": 0,\n        \"min\": 0,\n        \"max\": 1,\n        \"num_unique_values\": 2,\n        \"samples\": [\n          1,\n          0\n        ],\n        \"semantic_type\": \"\",\n        \"description\": \"\"\n      }\n    },\n    {\n      \"column\": \"totChol\",\n      \"properties\": {\n        \"dtype\": \"number\",\n        \"std\": 44.590334318749434,\n        \"min\": 107.0,\n        \"max\": 696.0,\n        \"num_unique_values\": 248,\n        \"samples\": [\n          311.0,\n          205.0\n        ],\n        \"semantic_type\": \"\",\n        \"description\": \"\"\n      }\n    },\n    {\n      \"column\": \"sysBP\",\n      \"properties\": {\n        \"dtype\": \"number\",\n        \"std\": 22.038096643544584,\n        \"min\": 83.5,\n        \"max\": 295.0,\n        \"num_unique_values\": 234,\n        \"samples\": [\n          109.0,\n          184.5\n        ],\n        \"semantic_type\": \"\",\n        \"description\": \"\"\n      }\n    },\n    {\n      \"column\": \"diaBP\",\n      \"properties\": {\n        \"dtype\": \"number\",\n        \"std\": 11.91084960022547,\n        \"min\": 48.0,\n        \"max\": 142.5,\n        \"num_unique_values\": 146,\n        \"samples\": [\n          106.0,\n          108.5\n        ],\n        \"semantic_type\": \"\",\n        \"description\": \"\"\n      }\n    },\n    {\n      \"column\": \"BMI\",\n      \"properties\": {\n        \"dtype\": \"number\",\n        \"std\": 4.080111062409026,\n        \"min\": 15.54,\n        \"max\": 56.8,\n        \"num_unique_values\": 1363,\n        \"samples\": [\n          24.56,\n          19.87\n        ],\n        \"semantic_type\": \"\",\n        \"description\": \"\"\n      }\n    },\n    {\n      \"column\": \"heartRate\",\n      \"properties\": {\n        \"dtype\": \"number\",\n        \"std\": 12.026596351612678,\n        \"min\": 44.0,\n        \"max\": 143.0,\n        \"num_unique_values\": 73,\n        \"samples\": [\n          85.0,\n          47.0\n        ],\n        \"semantic_type\": \"\",\n        \"description\": \"\"\n      }\n    },\n    {\n      \"column\": \"glucose\",\n      \"properties\": {\n        \"dtype\": \"number\",\n        \"std\": 23.959998189237474,\n        \"min\": 40.0,\n        \"max\": 394.0,\n        \"num_unique_values\": 143,\n        \"samples\": [\n          394.0,\n          74.0\n        ],\n        \"semantic_type\": \"\",\n        \"description\": \"\"\n      }\n    },\n    {\n      \"column\": \"TenYearCHD\",\n      \"properties\": {\n        \"dtype\": \"number\",\n        \"std\": 0,\n        \"min\": 0,\n        \"max\": 1,\n        \"num_unique_values\": 2,\n        \"samples\": [\n          1,\n          0\n        ],\n        \"semantic_type\": \"\",\n        \"description\": \"\"\n      }\n    }\n  ]\n}"
            }
          },
          "metadata": {},
          "execution_count": 305
        }
      ]
    },
    {
      "cell_type": "markdown",
      "source": [
        "The last five"
      ],
      "metadata": {
        "id": "roagsoUZqOQK"
      }
    },
    {
      "cell_type": "code",
      "source": [
        "data.tail()"
      ],
      "metadata": {
        "execution": {
          "iopub.status.busy": "2024-10-07T21:07:47.709608Z",
          "iopub.execute_input": "2024-10-07T21:07:47.710091Z",
          "iopub.status.idle": "2024-10-07T21:07:47.736638Z",
          "shell.execute_reply.started": "2024-10-07T21:07:47.710031Z",
          "shell.execute_reply": "2024-10-07T21:07:47.735392Z"
        },
        "trusted": true,
        "id": "sCmBK8jgz8lF",
        "outputId": "4ace6580-3f5f-4a5a-eee0-82496d196bcd",
        "colab": {
          "base_uri": "https://localhost:8080/",
          "height": 226
        }
      },
      "execution_count": 306,
      "outputs": [
        {
          "output_type": "execute_result",
          "data": {
            "text/plain": [
              "      male  age  education  currentSmoker  cigsPerDay  BPMeds  \\\n",
              "4233     1   50        1.0              1         1.0     0.0   \n",
              "4234     1   51        3.0              1        43.0     0.0   \n",
              "4235     0   48        2.0              1        20.0     NaN   \n",
              "4236     0   44        1.0              1        15.0     0.0   \n",
              "4237     0   52        2.0              0         0.0     0.0   \n",
              "\n",
              "      prevalentStroke  prevalentHyp  diabetes  totChol  sysBP  diaBP    BMI  \\\n",
              "4233                0             1         0    313.0  179.0   92.0  25.97   \n",
              "4234                0             0         0    207.0  126.5   80.0  19.71   \n",
              "4235                0             0         0    248.0  131.0   72.0  22.00   \n",
              "4236                0             0         0    210.0  126.5   87.0  19.16   \n",
              "4237                0             0         0    269.0  133.5   83.0  21.47   \n",
              "\n",
              "      heartRate  glucose  TenYearCHD  \n",
              "4233       66.0     86.0           1  \n",
              "4234       65.0     68.0           0  \n",
              "4235       84.0     86.0           0  \n",
              "4236       86.0      NaN           0  \n",
              "4237       80.0    107.0           0  "
            ],
            "text/html": [
              "\n",
              "  <div id=\"df-6a911eca-b468-4694-b6a5-cbde540d8bb1\" class=\"colab-df-container\">\n",
              "    <div>\n",
              "<style scoped>\n",
              "    .dataframe tbody tr th:only-of-type {\n",
              "        vertical-align: middle;\n",
              "    }\n",
              "\n",
              "    .dataframe tbody tr th {\n",
              "        vertical-align: top;\n",
              "    }\n",
              "\n",
              "    .dataframe thead th {\n",
              "        text-align: right;\n",
              "    }\n",
              "</style>\n",
              "<table border=\"1\" class=\"dataframe\">\n",
              "  <thead>\n",
              "    <tr style=\"text-align: right;\">\n",
              "      <th></th>\n",
              "      <th>male</th>\n",
              "      <th>age</th>\n",
              "      <th>education</th>\n",
              "      <th>currentSmoker</th>\n",
              "      <th>cigsPerDay</th>\n",
              "      <th>BPMeds</th>\n",
              "      <th>prevalentStroke</th>\n",
              "      <th>prevalentHyp</th>\n",
              "      <th>diabetes</th>\n",
              "      <th>totChol</th>\n",
              "      <th>sysBP</th>\n",
              "      <th>diaBP</th>\n",
              "      <th>BMI</th>\n",
              "      <th>heartRate</th>\n",
              "      <th>glucose</th>\n",
              "      <th>TenYearCHD</th>\n",
              "    </tr>\n",
              "  </thead>\n",
              "  <tbody>\n",
              "    <tr>\n",
              "      <th>4233</th>\n",
              "      <td>1</td>\n",
              "      <td>50</td>\n",
              "      <td>1.0</td>\n",
              "      <td>1</td>\n",
              "      <td>1.0</td>\n",
              "      <td>0.0</td>\n",
              "      <td>0</td>\n",
              "      <td>1</td>\n",
              "      <td>0</td>\n",
              "      <td>313.0</td>\n",
              "      <td>179.0</td>\n",
              "      <td>92.0</td>\n",
              "      <td>25.97</td>\n",
              "      <td>66.0</td>\n",
              "      <td>86.0</td>\n",
              "      <td>1</td>\n",
              "    </tr>\n",
              "    <tr>\n",
              "      <th>4234</th>\n",
              "      <td>1</td>\n",
              "      <td>51</td>\n",
              "      <td>3.0</td>\n",
              "      <td>1</td>\n",
              "      <td>43.0</td>\n",
              "      <td>0.0</td>\n",
              "      <td>0</td>\n",
              "      <td>0</td>\n",
              "      <td>0</td>\n",
              "      <td>207.0</td>\n",
              "      <td>126.5</td>\n",
              "      <td>80.0</td>\n",
              "      <td>19.71</td>\n",
              "      <td>65.0</td>\n",
              "      <td>68.0</td>\n",
              "      <td>0</td>\n",
              "    </tr>\n",
              "    <tr>\n",
              "      <th>4235</th>\n",
              "      <td>0</td>\n",
              "      <td>48</td>\n",
              "      <td>2.0</td>\n",
              "      <td>1</td>\n",
              "      <td>20.0</td>\n",
              "      <td>NaN</td>\n",
              "      <td>0</td>\n",
              "      <td>0</td>\n",
              "      <td>0</td>\n",
              "      <td>248.0</td>\n",
              "      <td>131.0</td>\n",
              "      <td>72.0</td>\n",
              "      <td>22.00</td>\n",
              "      <td>84.0</td>\n",
              "      <td>86.0</td>\n",
              "      <td>0</td>\n",
              "    </tr>\n",
              "    <tr>\n",
              "      <th>4236</th>\n",
              "      <td>0</td>\n",
              "      <td>44</td>\n",
              "      <td>1.0</td>\n",
              "      <td>1</td>\n",
              "      <td>15.0</td>\n",
              "      <td>0.0</td>\n",
              "      <td>0</td>\n",
              "      <td>0</td>\n",
              "      <td>0</td>\n",
              "      <td>210.0</td>\n",
              "      <td>126.5</td>\n",
              "      <td>87.0</td>\n",
              "      <td>19.16</td>\n",
              "      <td>86.0</td>\n",
              "      <td>NaN</td>\n",
              "      <td>0</td>\n",
              "    </tr>\n",
              "    <tr>\n",
              "      <th>4237</th>\n",
              "      <td>0</td>\n",
              "      <td>52</td>\n",
              "      <td>2.0</td>\n",
              "      <td>0</td>\n",
              "      <td>0.0</td>\n",
              "      <td>0.0</td>\n",
              "      <td>0</td>\n",
              "      <td>0</td>\n",
              "      <td>0</td>\n",
              "      <td>269.0</td>\n",
              "      <td>133.5</td>\n",
              "      <td>83.0</td>\n",
              "      <td>21.47</td>\n",
              "      <td>80.0</td>\n",
              "      <td>107.0</td>\n",
              "      <td>0</td>\n",
              "    </tr>\n",
              "  </tbody>\n",
              "</table>\n",
              "</div>\n",
              "    <div class=\"colab-df-buttons\">\n",
              "\n",
              "  <div class=\"colab-df-container\">\n",
              "    <button class=\"colab-df-convert\" onclick=\"convertToInteractive('df-6a911eca-b468-4694-b6a5-cbde540d8bb1')\"\n",
              "            title=\"Convert this dataframe to an interactive table.\"\n",
              "            style=\"display:none;\">\n",
              "\n",
              "  <svg xmlns=\"http://www.w3.org/2000/svg\" height=\"24px\" viewBox=\"0 -960 960 960\">\n",
              "    <path d=\"M120-120v-720h720v720H120Zm60-500h600v-160H180v160Zm220 220h160v-160H400v160Zm0 220h160v-160H400v160ZM180-400h160v-160H180v160Zm440 0h160v-160H620v160ZM180-180h160v-160H180v160Zm440 0h160v-160H620v160Z\"/>\n",
              "  </svg>\n",
              "    </button>\n",
              "\n",
              "  <style>\n",
              "    .colab-df-container {\n",
              "      display:flex;\n",
              "      gap: 12px;\n",
              "    }\n",
              "\n",
              "    .colab-df-convert {\n",
              "      background-color: #E8F0FE;\n",
              "      border: none;\n",
              "      border-radius: 50%;\n",
              "      cursor: pointer;\n",
              "      display: none;\n",
              "      fill: #1967D2;\n",
              "      height: 32px;\n",
              "      padding: 0 0 0 0;\n",
              "      width: 32px;\n",
              "    }\n",
              "\n",
              "    .colab-df-convert:hover {\n",
              "      background-color: #E2EBFA;\n",
              "      box-shadow: 0px 1px 2px rgba(60, 64, 67, 0.3), 0px 1px 3px 1px rgba(60, 64, 67, 0.15);\n",
              "      fill: #174EA6;\n",
              "    }\n",
              "\n",
              "    .colab-df-buttons div {\n",
              "      margin-bottom: 4px;\n",
              "    }\n",
              "\n",
              "    [theme=dark] .colab-df-convert {\n",
              "      background-color: #3B4455;\n",
              "      fill: #D2E3FC;\n",
              "    }\n",
              "\n",
              "    [theme=dark] .colab-df-convert:hover {\n",
              "      background-color: #434B5C;\n",
              "      box-shadow: 0px 1px 3px 1px rgba(0, 0, 0, 0.15);\n",
              "      filter: drop-shadow(0px 1px 2px rgba(0, 0, 0, 0.3));\n",
              "      fill: #FFFFFF;\n",
              "    }\n",
              "  </style>\n",
              "\n",
              "    <script>\n",
              "      const buttonEl =\n",
              "        document.querySelector('#df-6a911eca-b468-4694-b6a5-cbde540d8bb1 button.colab-df-convert');\n",
              "      buttonEl.style.display =\n",
              "        google.colab.kernel.accessAllowed ? 'block' : 'none';\n",
              "\n",
              "      async function convertToInteractive(key) {\n",
              "        const element = document.querySelector('#df-6a911eca-b468-4694-b6a5-cbde540d8bb1');\n",
              "        const dataTable =\n",
              "          await google.colab.kernel.invokeFunction('convertToInteractive',\n",
              "                                                    [key], {});\n",
              "        if (!dataTable) return;\n",
              "\n",
              "        const docLinkHtml = 'Like what you see? Visit the ' +\n",
              "          '<a target=\"_blank\" href=https://colab.research.google.com/notebooks/data_table.ipynb>data table notebook</a>'\n",
              "          + ' to learn more about interactive tables.';\n",
              "        element.innerHTML = '';\n",
              "        dataTable['output_type'] = 'display_data';\n",
              "        await google.colab.output.renderOutput(dataTable, element);\n",
              "        const docLink = document.createElement('div');\n",
              "        docLink.innerHTML = docLinkHtml;\n",
              "        element.appendChild(docLink);\n",
              "      }\n",
              "    </script>\n",
              "  </div>\n",
              "\n",
              "\n",
              "<div id=\"df-6ce6dbcc-e7a5-4c80-8d1d-d074f7a4f81f\">\n",
              "  <button class=\"colab-df-quickchart\" onclick=\"quickchart('df-6ce6dbcc-e7a5-4c80-8d1d-d074f7a4f81f')\"\n",
              "            title=\"Suggest charts\"\n",
              "            style=\"display:none;\">\n",
              "\n",
              "<svg xmlns=\"http://www.w3.org/2000/svg\" height=\"24px\"viewBox=\"0 0 24 24\"\n",
              "     width=\"24px\">\n",
              "    <g>\n",
              "        <path d=\"M19 3H5c-1.1 0-2 .9-2 2v14c0 1.1.9 2 2 2h14c1.1 0 2-.9 2-2V5c0-1.1-.9-2-2-2zM9 17H7v-7h2v7zm4 0h-2V7h2v10zm4 0h-2v-4h2v4z\"/>\n",
              "    </g>\n",
              "</svg>\n",
              "  </button>\n",
              "\n",
              "<style>\n",
              "  .colab-df-quickchart {\n",
              "      --bg-color: #E8F0FE;\n",
              "      --fill-color: #1967D2;\n",
              "      --hover-bg-color: #E2EBFA;\n",
              "      --hover-fill-color: #174EA6;\n",
              "      --disabled-fill-color: #AAA;\n",
              "      --disabled-bg-color: #DDD;\n",
              "  }\n",
              "\n",
              "  [theme=dark] .colab-df-quickchart {\n",
              "      --bg-color: #3B4455;\n",
              "      --fill-color: #D2E3FC;\n",
              "      --hover-bg-color: #434B5C;\n",
              "      --hover-fill-color: #FFFFFF;\n",
              "      --disabled-bg-color: #3B4455;\n",
              "      --disabled-fill-color: #666;\n",
              "  }\n",
              "\n",
              "  .colab-df-quickchart {\n",
              "    background-color: var(--bg-color);\n",
              "    border: none;\n",
              "    border-radius: 50%;\n",
              "    cursor: pointer;\n",
              "    display: none;\n",
              "    fill: var(--fill-color);\n",
              "    height: 32px;\n",
              "    padding: 0;\n",
              "    width: 32px;\n",
              "  }\n",
              "\n",
              "  .colab-df-quickchart:hover {\n",
              "    background-color: var(--hover-bg-color);\n",
              "    box-shadow: 0 1px 2px rgba(60, 64, 67, 0.3), 0 1px 3px 1px rgba(60, 64, 67, 0.15);\n",
              "    fill: var(--button-hover-fill-color);\n",
              "  }\n",
              "\n",
              "  .colab-df-quickchart-complete:disabled,\n",
              "  .colab-df-quickchart-complete:disabled:hover {\n",
              "    background-color: var(--disabled-bg-color);\n",
              "    fill: var(--disabled-fill-color);\n",
              "    box-shadow: none;\n",
              "  }\n",
              "\n",
              "  .colab-df-spinner {\n",
              "    border: 2px solid var(--fill-color);\n",
              "    border-color: transparent;\n",
              "    border-bottom-color: var(--fill-color);\n",
              "    animation:\n",
              "      spin 1s steps(1) infinite;\n",
              "  }\n",
              "\n",
              "  @keyframes spin {\n",
              "    0% {\n",
              "      border-color: transparent;\n",
              "      border-bottom-color: var(--fill-color);\n",
              "      border-left-color: var(--fill-color);\n",
              "    }\n",
              "    20% {\n",
              "      border-color: transparent;\n",
              "      border-left-color: var(--fill-color);\n",
              "      border-top-color: var(--fill-color);\n",
              "    }\n",
              "    30% {\n",
              "      border-color: transparent;\n",
              "      border-left-color: var(--fill-color);\n",
              "      border-top-color: var(--fill-color);\n",
              "      border-right-color: var(--fill-color);\n",
              "    }\n",
              "    40% {\n",
              "      border-color: transparent;\n",
              "      border-right-color: var(--fill-color);\n",
              "      border-top-color: var(--fill-color);\n",
              "    }\n",
              "    60% {\n",
              "      border-color: transparent;\n",
              "      border-right-color: var(--fill-color);\n",
              "    }\n",
              "    80% {\n",
              "      border-color: transparent;\n",
              "      border-right-color: var(--fill-color);\n",
              "      border-bottom-color: var(--fill-color);\n",
              "    }\n",
              "    90% {\n",
              "      border-color: transparent;\n",
              "      border-bottom-color: var(--fill-color);\n",
              "    }\n",
              "  }\n",
              "</style>\n",
              "\n",
              "  <script>\n",
              "    async function quickchart(key) {\n",
              "      const quickchartButtonEl =\n",
              "        document.querySelector('#' + key + ' button');\n",
              "      quickchartButtonEl.disabled = true;  // To prevent multiple clicks.\n",
              "      quickchartButtonEl.classList.add('colab-df-spinner');\n",
              "      try {\n",
              "        const charts = await google.colab.kernel.invokeFunction(\n",
              "            'suggestCharts', [key], {});\n",
              "      } catch (error) {\n",
              "        console.error('Error during call to suggestCharts:', error);\n",
              "      }\n",
              "      quickchartButtonEl.classList.remove('colab-df-spinner');\n",
              "      quickchartButtonEl.classList.add('colab-df-quickchart-complete');\n",
              "    }\n",
              "    (() => {\n",
              "      let quickchartButtonEl =\n",
              "        document.querySelector('#df-6ce6dbcc-e7a5-4c80-8d1d-d074f7a4f81f button');\n",
              "      quickchartButtonEl.style.display =\n",
              "        google.colab.kernel.accessAllowed ? 'block' : 'none';\n",
              "    })();\n",
              "  </script>\n",
              "</div>\n",
              "\n",
              "    </div>\n",
              "  </div>\n"
            ],
            "application/vnd.google.colaboratory.intrinsic+json": {
              "type": "dataframe",
              "summary": "{\n  \"name\": \"data\",\n  \"rows\": 5,\n  \"fields\": [\n    {\n      \"column\": \"male\",\n      \"properties\": {\n        \"dtype\": \"number\",\n        \"std\": 0,\n        \"min\": 0,\n        \"max\": 1,\n        \"num_unique_values\": 2,\n        \"samples\": [\n          0,\n          1\n        ],\n        \"semantic_type\": \"\",\n        \"description\": \"\"\n      }\n    },\n    {\n      \"column\": \"age\",\n      \"properties\": {\n        \"dtype\": \"number\",\n        \"std\": 3,\n        \"min\": 44,\n        \"max\": 52,\n        \"num_unique_values\": 5,\n        \"samples\": [\n          51,\n          52\n        ],\n        \"semantic_type\": \"\",\n        \"description\": \"\"\n      }\n    },\n    {\n      \"column\": \"education\",\n      \"properties\": {\n        \"dtype\": \"number\",\n        \"std\": 0.8366600265340756,\n        \"min\": 1.0,\n        \"max\": 3.0,\n        \"num_unique_values\": 3,\n        \"samples\": [\n          1.0,\n          3.0\n        ],\n        \"semantic_type\": \"\",\n        \"description\": \"\"\n      }\n    },\n    {\n      \"column\": \"currentSmoker\",\n      \"properties\": {\n        \"dtype\": \"number\",\n        \"std\": 0,\n        \"min\": 0,\n        \"max\": 1,\n        \"num_unique_values\": 2,\n        \"samples\": [\n          0,\n          1\n        ],\n        \"semantic_type\": \"\",\n        \"description\": \"\"\n      }\n    },\n    {\n      \"column\": \"cigsPerDay\",\n      \"properties\": {\n        \"dtype\": \"number\",\n        \"std\": 17.51285242329187,\n        \"min\": 0.0,\n        \"max\": 43.0,\n        \"num_unique_values\": 5,\n        \"samples\": [\n          43.0,\n          0.0\n        ],\n        \"semantic_type\": \"\",\n        \"description\": \"\"\n      }\n    },\n    {\n      \"column\": \"BPMeds\",\n      \"properties\": {\n        \"dtype\": \"number\",\n        \"std\": 0.0,\n        \"min\": 0.0,\n        \"max\": 0.0,\n        \"num_unique_values\": 1,\n        \"samples\": [\n          0.0\n        ],\n        \"semantic_type\": \"\",\n        \"description\": \"\"\n      }\n    },\n    {\n      \"column\": \"prevalentStroke\",\n      \"properties\": {\n        \"dtype\": \"number\",\n        \"std\": 0,\n        \"min\": 0,\n        \"max\": 0,\n        \"num_unique_values\": 1,\n        \"samples\": [\n          0\n        ],\n        \"semantic_type\": \"\",\n        \"description\": \"\"\n      }\n    },\n    {\n      \"column\": \"prevalentHyp\",\n      \"properties\": {\n        \"dtype\": \"number\",\n        \"std\": 0,\n        \"min\": 0,\n        \"max\": 1,\n        \"num_unique_values\": 2,\n        \"samples\": [\n          0\n        ],\n        \"semantic_type\": \"\",\n        \"description\": \"\"\n      }\n    },\n    {\n      \"column\": \"diabetes\",\n      \"properties\": {\n        \"dtype\": \"number\",\n        \"std\": 0,\n        \"min\": 0,\n        \"max\": 0,\n        \"num_unique_values\": 1,\n        \"samples\": [\n          0\n        ],\n        \"semantic_type\": \"\",\n        \"description\": \"\"\n      }\n    },\n    {\n      \"column\": \"totChol\",\n      \"properties\": {\n        \"dtype\": \"number\",\n        \"std\": 44.10555520566542,\n        \"min\": 207.0,\n        \"max\": 313.0,\n        \"num_unique_values\": 5,\n        \"samples\": [\n          207.0\n        ],\n        \"semantic_type\": \"\",\n        \"description\": \"\"\n      }\n    },\n    {\n      \"column\": \"sysBP\",\n      \"properties\": {\n        \"dtype\": \"number\",\n        \"std\": 22.395870155008488,\n        \"min\": 126.5,\n        \"max\": 179.0,\n        \"num_unique_values\": 4,\n        \"samples\": [\n          126.5\n        ],\n        \"semantic_type\": \"\",\n        \"description\": \"\"\n      }\n    },\n    {\n      \"column\": \"diaBP\",\n      \"properties\": {\n        \"dtype\": \"number\",\n        \"std\": 7.52994023880668,\n        \"min\": 72.0,\n        \"max\": 92.0,\n        \"num_unique_values\": 5,\n        \"samples\": [\n          80.0\n        ],\n        \"semantic_type\": \"\",\n        \"description\": \"\"\n      }\n    },\n    {\n      \"column\": \"BMI\",\n      \"properties\": {\n        \"dtype\": \"number\",\n        \"std\": 2.6823627644298966,\n        \"min\": 19.16,\n        \"max\": 25.97,\n        \"num_unique_values\": 5,\n        \"samples\": [\n          19.71\n        ],\n        \"semantic_type\": \"\",\n        \"description\": \"\"\n      }\n    },\n    {\n      \"column\": \"heartRate\",\n      \"properties\": {\n        \"dtype\": \"number\",\n        \"std\": 10.00999500499376,\n        \"min\": 65.0,\n        \"max\": 86.0,\n        \"num_unique_values\": 5,\n        \"samples\": [\n          65.0\n        ],\n        \"semantic_type\": \"\",\n        \"description\": \"\"\n      }\n    },\n    {\n      \"column\": \"glucose\",\n      \"properties\": {\n        \"dtype\": \"number\",\n        \"std\": 15.945218719101975,\n        \"min\": 68.0,\n        \"max\": 107.0,\n        \"num_unique_values\": 3,\n        \"samples\": [\n          86.0\n        ],\n        \"semantic_type\": \"\",\n        \"description\": \"\"\n      }\n    },\n    {\n      \"column\": \"TenYearCHD\",\n      \"properties\": {\n        \"dtype\": \"number\",\n        \"std\": 0,\n        \"min\": 0,\n        \"max\": 1,\n        \"num_unique_values\": 2,\n        \"samples\": [\n          0\n        ],\n        \"semantic_type\": \"\",\n        \"description\": \"\"\n      }\n    }\n  ]\n}"
            }
          },
          "metadata": {},
          "execution_count": 306
        }
      ]
    },
    {
      "cell_type": "code",
      "source": [
        "data.info()"
      ],
      "metadata": {
        "execution": {
          "iopub.status.busy": "2024-10-07T21:07:47.738593Z",
          "iopub.execute_input": "2024-10-07T21:07:47.739088Z",
          "iopub.status.idle": "2024-10-07T21:07:47.753749Z",
          "shell.execute_reply.started": "2024-10-07T21:07:47.739034Z",
          "shell.execute_reply": "2024-10-07T21:07:47.752416Z"
        },
        "trusted": true,
        "id": "duWZDIE4z8lH",
        "outputId": "18400332-f331-4c07-c9c7-670700524778",
        "colab": {
          "base_uri": "https://localhost:8080/"
        }
      },
      "execution_count": 307,
      "outputs": [
        {
          "output_type": "stream",
          "name": "stdout",
          "text": [
            "<class 'pandas.core.frame.DataFrame'>\n",
            "RangeIndex: 4238 entries, 0 to 4237\n",
            "Data columns (total 16 columns):\n",
            " #   Column           Non-Null Count  Dtype  \n",
            "---  ------           --------------  -----  \n",
            " 0   male             4238 non-null   int64  \n",
            " 1   age              4238 non-null   int64  \n",
            " 2   education        4133 non-null   float64\n",
            " 3   currentSmoker    4238 non-null   int64  \n",
            " 4   cigsPerDay       4209 non-null   float64\n",
            " 5   BPMeds           4185 non-null   float64\n",
            " 6   prevalentStroke  4238 non-null   int64  \n",
            " 7   prevalentHyp     4238 non-null   int64  \n",
            " 8   diabetes         4238 non-null   int64  \n",
            " 9   totChol          4188 non-null   float64\n",
            " 10  sysBP            4238 non-null   float64\n",
            " 11  diaBP            4238 non-null   float64\n",
            " 12  BMI              4219 non-null   float64\n",
            " 13  heartRate        4237 non-null   float64\n",
            " 14  glucose          3850 non-null   float64\n",
            " 15  TenYearCHD       4238 non-null   int64  \n",
            "dtypes: float64(9), int64(7)\n",
            "memory usage: 529.9 KB\n"
          ]
        }
      ]
    },
    {
      "cell_type": "markdown",
      "source": [
        "NUll values"
      ],
      "metadata": {
        "id": "QWLrKrEHqSxK"
      }
    },
    {
      "cell_type": "code",
      "source": [
        "data.isnull().sum()"
      ],
      "metadata": {
        "execution": {
          "iopub.status.busy": "2024-10-07T21:07:47.755557Z",
          "iopub.execute_input": "2024-10-07T21:07:47.756076Z",
          "iopub.status.idle": "2024-10-07T21:07:47.770902Z",
          "shell.execute_reply.started": "2024-10-07T21:07:47.756005Z",
          "shell.execute_reply": "2024-10-07T21:07:47.769381Z"
        },
        "trusted": true,
        "id": "eSqtD09Xz8lH",
        "outputId": "236956cb-41b6-4f32-a9fc-2279c9e2c1d9",
        "colab": {
          "base_uri": "https://localhost:8080/",
          "height": 585
        }
      },
      "execution_count": 308,
      "outputs": [
        {
          "output_type": "execute_result",
          "data": {
            "text/plain": [
              "male                 0\n",
              "age                  0\n",
              "education          105\n",
              "currentSmoker        0\n",
              "cigsPerDay          29\n",
              "BPMeds              53\n",
              "prevalentStroke      0\n",
              "prevalentHyp         0\n",
              "diabetes             0\n",
              "totChol             50\n",
              "sysBP                0\n",
              "diaBP                0\n",
              "BMI                 19\n",
              "heartRate            1\n",
              "glucose            388\n",
              "TenYearCHD           0\n",
              "dtype: int64"
            ],
            "text/html": [
              "<div>\n",
              "<style scoped>\n",
              "    .dataframe tbody tr th:only-of-type {\n",
              "        vertical-align: middle;\n",
              "    }\n",
              "\n",
              "    .dataframe tbody tr th {\n",
              "        vertical-align: top;\n",
              "    }\n",
              "\n",
              "    .dataframe thead th {\n",
              "        text-align: right;\n",
              "    }\n",
              "</style>\n",
              "<table border=\"1\" class=\"dataframe\">\n",
              "  <thead>\n",
              "    <tr style=\"text-align: right;\">\n",
              "      <th></th>\n",
              "      <th>0</th>\n",
              "    </tr>\n",
              "  </thead>\n",
              "  <tbody>\n",
              "    <tr>\n",
              "      <th>male</th>\n",
              "      <td>0</td>\n",
              "    </tr>\n",
              "    <tr>\n",
              "      <th>age</th>\n",
              "      <td>0</td>\n",
              "    </tr>\n",
              "    <tr>\n",
              "      <th>education</th>\n",
              "      <td>105</td>\n",
              "    </tr>\n",
              "    <tr>\n",
              "      <th>currentSmoker</th>\n",
              "      <td>0</td>\n",
              "    </tr>\n",
              "    <tr>\n",
              "      <th>cigsPerDay</th>\n",
              "      <td>29</td>\n",
              "    </tr>\n",
              "    <tr>\n",
              "      <th>BPMeds</th>\n",
              "      <td>53</td>\n",
              "    </tr>\n",
              "    <tr>\n",
              "      <th>prevalentStroke</th>\n",
              "      <td>0</td>\n",
              "    </tr>\n",
              "    <tr>\n",
              "      <th>prevalentHyp</th>\n",
              "      <td>0</td>\n",
              "    </tr>\n",
              "    <tr>\n",
              "      <th>diabetes</th>\n",
              "      <td>0</td>\n",
              "    </tr>\n",
              "    <tr>\n",
              "      <th>totChol</th>\n",
              "      <td>50</td>\n",
              "    </tr>\n",
              "    <tr>\n",
              "      <th>sysBP</th>\n",
              "      <td>0</td>\n",
              "    </tr>\n",
              "    <tr>\n",
              "      <th>diaBP</th>\n",
              "      <td>0</td>\n",
              "    </tr>\n",
              "    <tr>\n",
              "      <th>BMI</th>\n",
              "      <td>19</td>\n",
              "    </tr>\n",
              "    <tr>\n",
              "      <th>heartRate</th>\n",
              "      <td>1</td>\n",
              "    </tr>\n",
              "    <tr>\n",
              "      <th>glucose</th>\n",
              "      <td>388</td>\n",
              "    </tr>\n",
              "    <tr>\n",
              "      <th>TenYearCHD</th>\n",
              "      <td>0</td>\n",
              "    </tr>\n",
              "  </tbody>\n",
              "</table>\n",
              "</div><br><label><b>dtype:</b> int64</label>"
            ]
          },
          "metadata": {},
          "execution_count": 308
        }
      ]
    },
    {
      "cell_type": "code",
      "source": [
        "data.describe()"
      ],
      "metadata": {
        "colab": {
          "base_uri": "https://localhost:8080/",
          "height": 320
        },
        "id": "uggvbVA5pr_c",
        "outputId": "6ac33cac-e8d5-4c69-b550-8a6becf03c89"
      },
      "execution_count": 309,
      "outputs": [
        {
          "output_type": "execute_result",
          "data": {
            "text/plain": [
              "              male          age    education  currentSmoker   cigsPerDay  \\\n",
              "count  4238.000000  4238.000000  4133.000000    4238.000000  4209.000000   \n",
              "mean      0.429212    49.584946     1.978950       0.494101     9.003089   \n",
              "std       0.495022     8.572160     1.019791       0.500024    11.920094   \n",
              "min       0.000000    32.000000     1.000000       0.000000     0.000000   \n",
              "25%       0.000000    42.000000     1.000000       0.000000     0.000000   \n",
              "50%       0.000000    49.000000     2.000000       0.000000     0.000000   \n",
              "75%       1.000000    56.000000     3.000000       1.000000    20.000000   \n",
              "max       1.000000    70.000000     4.000000       1.000000    70.000000   \n",
              "\n",
              "            BPMeds  prevalentStroke  prevalentHyp     diabetes      totChol  \\\n",
              "count  4185.000000      4238.000000   4238.000000  4238.000000  4188.000000   \n",
              "mean      0.029630         0.005899      0.310524     0.025720   236.721585   \n",
              "std       0.169584         0.076587      0.462763     0.158316    44.590334   \n",
              "min       0.000000         0.000000      0.000000     0.000000   107.000000   \n",
              "25%       0.000000         0.000000      0.000000     0.000000   206.000000   \n",
              "50%       0.000000         0.000000      0.000000     0.000000   234.000000   \n",
              "75%       0.000000         0.000000      1.000000     0.000000   263.000000   \n",
              "max       1.000000         1.000000      1.000000     1.000000   696.000000   \n",
              "\n",
              "             sysBP        diaBP          BMI    heartRate      glucose  \\\n",
              "count  4238.000000  4238.000000  4219.000000  4237.000000  3850.000000   \n",
              "mean    132.352407    82.893464    25.802008    75.878924    81.966753   \n",
              "std      22.038097    11.910850     4.080111    12.026596    23.959998   \n",
              "min      83.500000    48.000000    15.540000    44.000000    40.000000   \n",
              "25%     117.000000    75.000000    23.070000    68.000000    71.000000   \n",
              "50%     128.000000    82.000000    25.400000    75.000000    78.000000   \n",
              "75%     144.000000    89.875000    28.040000    83.000000    87.000000   \n",
              "max     295.000000   142.500000    56.800000   143.000000   394.000000   \n",
              "\n",
              "        TenYearCHD  \n",
              "count  4238.000000  \n",
              "mean      0.151958  \n",
              "std       0.359023  \n",
              "min       0.000000  \n",
              "25%       0.000000  \n",
              "50%       0.000000  \n",
              "75%       0.000000  \n",
              "max       1.000000  "
            ],
            "text/html": [
              "\n",
              "  <div id=\"df-cc2bcbca-017c-43c0-b2cf-d8cdf9e67817\" class=\"colab-df-container\">\n",
              "    <div>\n",
              "<style scoped>\n",
              "    .dataframe tbody tr th:only-of-type {\n",
              "        vertical-align: middle;\n",
              "    }\n",
              "\n",
              "    .dataframe tbody tr th {\n",
              "        vertical-align: top;\n",
              "    }\n",
              "\n",
              "    .dataframe thead th {\n",
              "        text-align: right;\n",
              "    }\n",
              "</style>\n",
              "<table border=\"1\" class=\"dataframe\">\n",
              "  <thead>\n",
              "    <tr style=\"text-align: right;\">\n",
              "      <th></th>\n",
              "      <th>male</th>\n",
              "      <th>age</th>\n",
              "      <th>education</th>\n",
              "      <th>currentSmoker</th>\n",
              "      <th>cigsPerDay</th>\n",
              "      <th>BPMeds</th>\n",
              "      <th>prevalentStroke</th>\n",
              "      <th>prevalentHyp</th>\n",
              "      <th>diabetes</th>\n",
              "      <th>totChol</th>\n",
              "      <th>sysBP</th>\n",
              "      <th>diaBP</th>\n",
              "      <th>BMI</th>\n",
              "      <th>heartRate</th>\n",
              "      <th>glucose</th>\n",
              "      <th>TenYearCHD</th>\n",
              "    </tr>\n",
              "  </thead>\n",
              "  <tbody>\n",
              "    <tr>\n",
              "      <th>count</th>\n",
              "      <td>4238.000000</td>\n",
              "      <td>4238.000000</td>\n",
              "      <td>4133.000000</td>\n",
              "      <td>4238.000000</td>\n",
              "      <td>4209.000000</td>\n",
              "      <td>4185.000000</td>\n",
              "      <td>4238.000000</td>\n",
              "      <td>4238.000000</td>\n",
              "      <td>4238.000000</td>\n",
              "      <td>4188.000000</td>\n",
              "      <td>4238.000000</td>\n",
              "      <td>4238.000000</td>\n",
              "      <td>4219.000000</td>\n",
              "      <td>4237.000000</td>\n",
              "      <td>3850.000000</td>\n",
              "      <td>4238.000000</td>\n",
              "    </tr>\n",
              "    <tr>\n",
              "      <th>mean</th>\n",
              "      <td>0.429212</td>\n",
              "      <td>49.584946</td>\n",
              "      <td>1.978950</td>\n",
              "      <td>0.494101</td>\n",
              "      <td>9.003089</td>\n",
              "      <td>0.029630</td>\n",
              "      <td>0.005899</td>\n",
              "      <td>0.310524</td>\n",
              "      <td>0.025720</td>\n",
              "      <td>236.721585</td>\n",
              "      <td>132.352407</td>\n",
              "      <td>82.893464</td>\n",
              "      <td>25.802008</td>\n",
              "      <td>75.878924</td>\n",
              "      <td>81.966753</td>\n",
              "      <td>0.151958</td>\n",
              "    </tr>\n",
              "    <tr>\n",
              "      <th>std</th>\n",
              "      <td>0.495022</td>\n",
              "      <td>8.572160</td>\n",
              "      <td>1.019791</td>\n",
              "      <td>0.500024</td>\n",
              "      <td>11.920094</td>\n",
              "      <td>0.169584</td>\n",
              "      <td>0.076587</td>\n",
              "      <td>0.462763</td>\n",
              "      <td>0.158316</td>\n",
              "      <td>44.590334</td>\n",
              "      <td>22.038097</td>\n",
              "      <td>11.910850</td>\n",
              "      <td>4.080111</td>\n",
              "      <td>12.026596</td>\n",
              "      <td>23.959998</td>\n",
              "      <td>0.359023</td>\n",
              "    </tr>\n",
              "    <tr>\n",
              "      <th>min</th>\n",
              "      <td>0.000000</td>\n",
              "      <td>32.000000</td>\n",
              "      <td>1.000000</td>\n",
              "      <td>0.000000</td>\n",
              "      <td>0.000000</td>\n",
              "      <td>0.000000</td>\n",
              "      <td>0.000000</td>\n",
              "      <td>0.000000</td>\n",
              "      <td>0.000000</td>\n",
              "      <td>107.000000</td>\n",
              "      <td>83.500000</td>\n",
              "      <td>48.000000</td>\n",
              "      <td>15.540000</td>\n",
              "      <td>44.000000</td>\n",
              "      <td>40.000000</td>\n",
              "      <td>0.000000</td>\n",
              "    </tr>\n",
              "    <tr>\n",
              "      <th>25%</th>\n",
              "      <td>0.000000</td>\n",
              "      <td>42.000000</td>\n",
              "      <td>1.000000</td>\n",
              "      <td>0.000000</td>\n",
              "      <td>0.000000</td>\n",
              "      <td>0.000000</td>\n",
              "      <td>0.000000</td>\n",
              "      <td>0.000000</td>\n",
              "      <td>0.000000</td>\n",
              "      <td>206.000000</td>\n",
              "      <td>117.000000</td>\n",
              "      <td>75.000000</td>\n",
              "      <td>23.070000</td>\n",
              "      <td>68.000000</td>\n",
              "      <td>71.000000</td>\n",
              "      <td>0.000000</td>\n",
              "    </tr>\n",
              "    <tr>\n",
              "      <th>50%</th>\n",
              "      <td>0.000000</td>\n",
              "      <td>49.000000</td>\n",
              "      <td>2.000000</td>\n",
              "      <td>0.000000</td>\n",
              "      <td>0.000000</td>\n",
              "      <td>0.000000</td>\n",
              "      <td>0.000000</td>\n",
              "      <td>0.000000</td>\n",
              "      <td>0.000000</td>\n",
              "      <td>234.000000</td>\n",
              "      <td>128.000000</td>\n",
              "      <td>82.000000</td>\n",
              "      <td>25.400000</td>\n",
              "      <td>75.000000</td>\n",
              "      <td>78.000000</td>\n",
              "      <td>0.000000</td>\n",
              "    </tr>\n",
              "    <tr>\n",
              "      <th>75%</th>\n",
              "      <td>1.000000</td>\n",
              "      <td>56.000000</td>\n",
              "      <td>3.000000</td>\n",
              "      <td>1.000000</td>\n",
              "      <td>20.000000</td>\n",
              "      <td>0.000000</td>\n",
              "      <td>0.000000</td>\n",
              "      <td>1.000000</td>\n",
              "      <td>0.000000</td>\n",
              "      <td>263.000000</td>\n",
              "      <td>144.000000</td>\n",
              "      <td>89.875000</td>\n",
              "      <td>28.040000</td>\n",
              "      <td>83.000000</td>\n",
              "      <td>87.000000</td>\n",
              "      <td>0.000000</td>\n",
              "    </tr>\n",
              "    <tr>\n",
              "      <th>max</th>\n",
              "      <td>1.000000</td>\n",
              "      <td>70.000000</td>\n",
              "      <td>4.000000</td>\n",
              "      <td>1.000000</td>\n",
              "      <td>70.000000</td>\n",
              "      <td>1.000000</td>\n",
              "      <td>1.000000</td>\n",
              "      <td>1.000000</td>\n",
              "      <td>1.000000</td>\n",
              "      <td>696.000000</td>\n",
              "      <td>295.000000</td>\n",
              "      <td>142.500000</td>\n",
              "      <td>56.800000</td>\n",
              "      <td>143.000000</td>\n",
              "      <td>394.000000</td>\n",
              "      <td>1.000000</td>\n",
              "    </tr>\n",
              "  </tbody>\n",
              "</table>\n",
              "</div>\n",
              "    <div class=\"colab-df-buttons\">\n",
              "\n",
              "  <div class=\"colab-df-container\">\n",
              "    <button class=\"colab-df-convert\" onclick=\"convertToInteractive('df-cc2bcbca-017c-43c0-b2cf-d8cdf9e67817')\"\n",
              "            title=\"Convert this dataframe to an interactive table.\"\n",
              "            style=\"display:none;\">\n",
              "\n",
              "  <svg xmlns=\"http://www.w3.org/2000/svg\" height=\"24px\" viewBox=\"0 -960 960 960\">\n",
              "    <path d=\"M120-120v-720h720v720H120Zm60-500h600v-160H180v160Zm220 220h160v-160H400v160Zm0 220h160v-160H400v160ZM180-400h160v-160H180v160Zm440 0h160v-160H620v160ZM180-180h160v-160H180v160Zm440 0h160v-160H620v160Z\"/>\n",
              "  </svg>\n",
              "    </button>\n",
              "\n",
              "  <style>\n",
              "    .colab-df-container {\n",
              "      display:flex;\n",
              "      gap: 12px;\n",
              "    }\n",
              "\n",
              "    .colab-df-convert {\n",
              "      background-color: #E8F0FE;\n",
              "      border: none;\n",
              "      border-radius: 50%;\n",
              "      cursor: pointer;\n",
              "      display: none;\n",
              "      fill: #1967D2;\n",
              "      height: 32px;\n",
              "      padding: 0 0 0 0;\n",
              "      width: 32px;\n",
              "    }\n",
              "\n",
              "    .colab-df-convert:hover {\n",
              "      background-color: #E2EBFA;\n",
              "      box-shadow: 0px 1px 2px rgba(60, 64, 67, 0.3), 0px 1px 3px 1px rgba(60, 64, 67, 0.15);\n",
              "      fill: #174EA6;\n",
              "    }\n",
              "\n",
              "    .colab-df-buttons div {\n",
              "      margin-bottom: 4px;\n",
              "    }\n",
              "\n",
              "    [theme=dark] .colab-df-convert {\n",
              "      background-color: #3B4455;\n",
              "      fill: #D2E3FC;\n",
              "    }\n",
              "\n",
              "    [theme=dark] .colab-df-convert:hover {\n",
              "      background-color: #434B5C;\n",
              "      box-shadow: 0px 1px 3px 1px rgba(0, 0, 0, 0.15);\n",
              "      filter: drop-shadow(0px 1px 2px rgba(0, 0, 0, 0.3));\n",
              "      fill: #FFFFFF;\n",
              "    }\n",
              "  </style>\n",
              "\n",
              "    <script>\n",
              "      const buttonEl =\n",
              "        document.querySelector('#df-cc2bcbca-017c-43c0-b2cf-d8cdf9e67817 button.colab-df-convert');\n",
              "      buttonEl.style.display =\n",
              "        google.colab.kernel.accessAllowed ? 'block' : 'none';\n",
              "\n",
              "      async function convertToInteractive(key) {\n",
              "        const element = document.querySelector('#df-cc2bcbca-017c-43c0-b2cf-d8cdf9e67817');\n",
              "        const dataTable =\n",
              "          await google.colab.kernel.invokeFunction('convertToInteractive',\n",
              "                                                    [key], {});\n",
              "        if (!dataTable) return;\n",
              "\n",
              "        const docLinkHtml = 'Like what you see? Visit the ' +\n",
              "          '<a target=\"_blank\" href=https://colab.research.google.com/notebooks/data_table.ipynb>data table notebook</a>'\n",
              "          + ' to learn more about interactive tables.';\n",
              "        element.innerHTML = '';\n",
              "        dataTable['output_type'] = 'display_data';\n",
              "        await google.colab.output.renderOutput(dataTable, element);\n",
              "        const docLink = document.createElement('div');\n",
              "        docLink.innerHTML = docLinkHtml;\n",
              "        element.appendChild(docLink);\n",
              "      }\n",
              "    </script>\n",
              "  </div>\n",
              "\n",
              "\n",
              "<div id=\"df-66545ad5-bb65-4f43-8d7b-de705552837a\">\n",
              "  <button class=\"colab-df-quickchart\" onclick=\"quickchart('df-66545ad5-bb65-4f43-8d7b-de705552837a')\"\n",
              "            title=\"Suggest charts\"\n",
              "            style=\"display:none;\">\n",
              "\n",
              "<svg xmlns=\"http://www.w3.org/2000/svg\" height=\"24px\"viewBox=\"0 0 24 24\"\n",
              "     width=\"24px\">\n",
              "    <g>\n",
              "        <path d=\"M19 3H5c-1.1 0-2 .9-2 2v14c0 1.1.9 2 2 2h14c1.1 0 2-.9 2-2V5c0-1.1-.9-2-2-2zM9 17H7v-7h2v7zm4 0h-2V7h2v10zm4 0h-2v-4h2v4z\"/>\n",
              "    </g>\n",
              "</svg>\n",
              "  </button>\n",
              "\n",
              "<style>\n",
              "  .colab-df-quickchart {\n",
              "      --bg-color: #E8F0FE;\n",
              "      --fill-color: #1967D2;\n",
              "      --hover-bg-color: #E2EBFA;\n",
              "      --hover-fill-color: #174EA6;\n",
              "      --disabled-fill-color: #AAA;\n",
              "      --disabled-bg-color: #DDD;\n",
              "  }\n",
              "\n",
              "  [theme=dark] .colab-df-quickchart {\n",
              "      --bg-color: #3B4455;\n",
              "      --fill-color: #D2E3FC;\n",
              "      --hover-bg-color: #434B5C;\n",
              "      --hover-fill-color: #FFFFFF;\n",
              "      --disabled-bg-color: #3B4455;\n",
              "      --disabled-fill-color: #666;\n",
              "  }\n",
              "\n",
              "  .colab-df-quickchart {\n",
              "    background-color: var(--bg-color);\n",
              "    border: none;\n",
              "    border-radius: 50%;\n",
              "    cursor: pointer;\n",
              "    display: none;\n",
              "    fill: var(--fill-color);\n",
              "    height: 32px;\n",
              "    padding: 0;\n",
              "    width: 32px;\n",
              "  }\n",
              "\n",
              "  .colab-df-quickchart:hover {\n",
              "    background-color: var(--hover-bg-color);\n",
              "    box-shadow: 0 1px 2px rgba(60, 64, 67, 0.3), 0 1px 3px 1px rgba(60, 64, 67, 0.15);\n",
              "    fill: var(--button-hover-fill-color);\n",
              "  }\n",
              "\n",
              "  .colab-df-quickchart-complete:disabled,\n",
              "  .colab-df-quickchart-complete:disabled:hover {\n",
              "    background-color: var(--disabled-bg-color);\n",
              "    fill: var(--disabled-fill-color);\n",
              "    box-shadow: none;\n",
              "  }\n",
              "\n",
              "  .colab-df-spinner {\n",
              "    border: 2px solid var(--fill-color);\n",
              "    border-color: transparent;\n",
              "    border-bottom-color: var(--fill-color);\n",
              "    animation:\n",
              "      spin 1s steps(1) infinite;\n",
              "  }\n",
              "\n",
              "  @keyframes spin {\n",
              "    0% {\n",
              "      border-color: transparent;\n",
              "      border-bottom-color: var(--fill-color);\n",
              "      border-left-color: var(--fill-color);\n",
              "    }\n",
              "    20% {\n",
              "      border-color: transparent;\n",
              "      border-left-color: var(--fill-color);\n",
              "      border-top-color: var(--fill-color);\n",
              "    }\n",
              "    30% {\n",
              "      border-color: transparent;\n",
              "      border-left-color: var(--fill-color);\n",
              "      border-top-color: var(--fill-color);\n",
              "      border-right-color: var(--fill-color);\n",
              "    }\n",
              "    40% {\n",
              "      border-color: transparent;\n",
              "      border-right-color: var(--fill-color);\n",
              "      border-top-color: var(--fill-color);\n",
              "    }\n",
              "    60% {\n",
              "      border-color: transparent;\n",
              "      border-right-color: var(--fill-color);\n",
              "    }\n",
              "    80% {\n",
              "      border-color: transparent;\n",
              "      border-right-color: var(--fill-color);\n",
              "      border-bottom-color: var(--fill-color);\n",
              "    }\n",
              "    90% {\n",
              "      border-color: transparent;\n",
              "      border-bottom-color: var(--fill-color);\n",
              "    }\n",
              "  }\n",
              "</style>\n",
              "\n",
              "  <script>\n",
              "    async function quickchart(key) {\n",
              "      const quickchartButtonEl =\n",
              "        document.querySelector('#' + key + ' button');\n",
              "      quickchartButtonEl.disabled = true;  // To prevent multiple clicks.\n",
              "      quickchartButtonEl.classList.add('colab-df-spinner');\n",
              "      try {\n",
              "        const charts = await google.colab.kernel.invokeFunction(\n",
              "            'suggestCharts', [key], {});\n",
              "      } catch (error) {\n",
              "        console.error('Error during call to suggestCharts:', error);\n",
              "      }\n",
              "      quickchartButtonEl.classList.remove('colab-df-spinner');\n",
              "      quickchartButtonEl.classList.add('colab-df-quickchart-complete');\n",
              "    }\n",
              "    (() => {\n",
              "      let quickchartButtonEl =\n",
              "        document.querySelector('#df-66545ad5-bb65-4f43-8d7b-de705552837a button');\n",
              "      quickchartButtonEl.style.display =\n",
              "        google.colab.kernel.accessAllowed ? 'block' : 'none';\n",
              "    })();\n",
              "  </script>\n",
              "</div>\n",
              "\n",
              "    </div>\n",
              "  </div>\n"
            ],
            "application/vnd.google.colaboratory.intrinsic+json": {
              "type": "dataframe",
              "summary": "{\n  \"name\": \"data\",\n  \"rows\": 8,\n  \"fields\": [\n    {\n      \"column\": \"male\",\n      \"properties\": {\n        \"dtype\": \"number\",\n        \"std\": 1498.2116307917174,\n        \"min\": 0.0,\n        \"max\": 4238.0,\n        \"num_unique_values\": 5,\n        \"samples\": [\n          0.42921189240207647,\n          1.0,\n          0.4950220855364826\n        ],\n        \"semantic_type\": \"\",\n        \"description\": \"\"\n      }\n    },\n    {\n      \"column\": \"age\",\n      \"properties\": {\n        \"dtype\": \"number\",\n        \"std\": 1482.9552786525312,\n        \"min\": 8.572159925118507,\n        \"max\": 4238.0,\n        \"num_unique_values\": 8,\n        \"samples\": [\n          49.58494572911751,\n          49.0,\n          4238.0\n        ],\n        \"semantic_type\": \"\",\n        \"description\": \"\"\n      }\n    },\n    {\n      \"column\": \"education\",\n      \"properties\": {\n        \"dtype\": \"number\",\n        \"std\": 1460.5295095025235,\n        \"min\": 1.0,\n        \"max\": 4133.0,\n        \"num_unique_values\": 7,\n        \"samples\": [\n          4133.0,\n          1.9789499153157513,\n          3.0\n        ],\n        \"semantic_type\": \"\",\n        \"description\": \"\"\n      }\n    },\n    {\n      \"column\": \"currentSmoker\",\n      \"properties\": {\n        \"dtype\": \"number\",\n        \"std\": 1498.2081010291288,\n        \"min\": 0.0,\n        \"max\": 4238.0,\n        \"num_unique_values\": 5,\n        \"samples\": [\n          0.49410099103350635,\n          1.0,\n          0.5000241969070399\n        ],\n        \"semantic_type\": \"\",\n        \"description\": \"\"\n      }\n    },\n    {\n      \"column\": \"cigsPerDay\",\n      \"properties\": {\n        \"dtype\": \"number\",\n        \"std\": 1482.6851658255596,\n        \"min\": 0.0,\n        \"max\": 4209.0,\n        \"num_unique_values\": 6,\n        \"samples\": [\n          4209.0,\n          9.003088619624615,\n          70.0\n        ],\n        \"semantic_type\": \"\",\n        \"description\": \"\"\n      }\n    },\n    {\n      \"column\": \"BPMeds\",\n      \"properties\": {\n        \"dtype\": \"number\",\n        \"std\": 1479.560410009123,\n        \"min\": 0.0,\n        \"max\": 4185.0,\n        \"num_unique_values\": 5,\n        \"samples\": [\n          0.02962962962962963,\n          1.0,\n          0.16958356790199888\n        ],\n        \"semantic_type\": \"\",\n        \"description\": \"\"\n      }\n    },\n    {\n      \"column\": \"prevalentStroke\",\n      \"properties\": {\n        \"dtype\": \"number\",\n        \"std\": 1498.304635499787,\n        \"min\": 0.0,\n        \"max\": 4238.0,\n        \"num_unique_values\": 5,\n        \"samples\": [\n          0.005899008966493629,\n          1.0,\n          0.07658717064585781\n        ],\n        \"semantic_type\": \"\",\n        \"description\": \"\"\n      }\n    },\n    {\n      \"column\": \"prevalentHyp\",\n      \"properties\": {\n        \"dtype\": \"number\",\n        \"std\": 1498.2192549875683,\n        \"min\": 0.0,\n        \"max\": 4238.0,\n        \"num_unique_values\": 5,\n        \"samples\": [\n          0.31052383199622463,\n          1.0,\n          0.46276269567369577\n        ],\n        \"semantic_type\": \"\",\n        \"description\": \"\"\n      }\n    },\n    {\n      \"column\": \"diabetes\",\n      \"properties\": {\n        \"dtype\": \"number\",\n        \"std\": 1498.2995058316505,\n        \"min\": 0.0,\n        \"max\": 4238.0,\n        \"num_unique_values\": 5,\n        \"samples\": [\n          0.025719679093912224,\n          1.0,\n          0.15831642786899516\n        ],\n        \"semantic_type\": \"\",\n        \"description\": \"\"\n      }\n    },\n    {\n      \"column\": \"totChol\",\n      \"properties\": {\n        \"dtype\": \"number\",\n        \"std\": 1403.9002477579238,\n        \"min\": 44.590334318749434,\n        \"max\": 4188.0,\n        \"num_unique_values\": 8,\n        \"samples\": [\n          236.72158548233045,\n          234.0,\n          4188.0\n        ],\n        \"semantic_type\": \"\",\n        \"description\": \"\"\n      }\n    },\n    {\n      \"column\": \"sysBP\",\n      \"properties\": {\n        \"dtype\": \"number\",\n        \"std\": 1453.832095647962,\n        \"min\": 22.038096643544584,\n        \"max\": 4238.0,\n        \"num_unique_values\": 8,\n        \"samples\": [\n          132.35240679565834,\n          128.0,\n          4238.0\n        ],\n        \"semantic_type\": \"\",\n        \"description\": \"\"\n      }\n    },\n    {\n      \"column\": \"diaBP\",\n      \"properties\": {\n        \"dtype\": \"number\",\n        \"std\": 1471.9456329708814,\n        \"min\": 11.91084960022547,\n        \"max\": 4238.0,\n        \"num_unique_values\": 8,\n        \"samples\": [\n          82.89346389806512,\n          82.0,\n          4238.0\n        ],\n        \"semantic_type\": \"\",\n        \"description\": \"\"\n      }\n    },\n    {\n      \"column\": \"BMI\",\n      \"properties\": {\n        \"dtype\": \"number\",\n        \"std\": 1482.6891002296709,\n        \"min\": 4.080111062409026,\n        \"max\": 4219.0,\n        \"num_unique_values\": 8,\n        \"samples\": [\n          25.80200758473572,\n          25.4,\n          4219.0\n        ],\n        \"semantic_type\": \"\",\n        \"description\": \"\"\n      }\n    },\n    {\n      \"column\": \"heartRate\",\n      \"properties\": {\n        \"dtype\": \"number\",\n        \"std\": 1473.1708105984824,\n        \"min\": 12.026596351612678,\n        \"max\": 4237.0,\n        \"num_unique_values\": 8,\n        \"samples\": [\n          75.87892376681614,\n          75.0,\n          4237.0\n        ],\n        \"semantic_type\": \"\",\n        \"description\": \"\"\n      }\n    },\n    {\n      \"column\": \"glucose\",\n      \"properties\": {\n        \"dtype\": \"number\",\n        \"std\": 1327.2109769547703,\n        \"min\": 23.959998189237474,\n        \"max\": 3850.0,\n        \"num_unique_values\": 8,\n        \"samples\": [\n          81.96675324675324,\n          78.0,\n          3850.0\n        ],\n        \"semantic_type\": \"\",\n        \"description\": \"\"\n      }\n    },\n    {\n      \"column\": \"TenYearCHD\",\n      \"properties\": {\n        \"dtype\": \"number\",\n        \"std\": 1498.2829926164407,\n        \"min\": 0.0,\n        \"max\": 4238.0,\n        \"num_unique_values\": 5,\n        \"samples\": [\n          0.1519584709768759,\n          1.0,\n          0.3590229919902671\n        ],\n        \"semantic_type\": \"\",\n        \"description\": \"\"\n      }\n    }\n  ]\n}"
            }
          },
          "metadata": {},
          "execution_count": 309
        }
      ]
    },
    {
      "cell_type": "markdown",
      "source": [
        "After dropping the null values"
      ],
      "metadata": {
        "id": "qqdT8ZrxqWiX"
      }
    },
    {
      "cell_type": "code",
      "source": [
        "data = data.dropna()\n",
        "data.shape"
      ],
      "metadata": {
        "execution": {
          "iopub.status.busy": "2024-10-07T21:07:47.774983Z",
          "iopub.execute_input": "2024-10-07T21:07:47.775483Z",
          "iopub.status.idle": "2024-10-07T21:07:47.788086Z",
          "shell.execute_reply.started": "2024-10-07T21:07:47.77543Z",
          "shell.execute_reply": "2024-10-07T21:07:47.786691Z"
        },
        "trusted": true,
        "id": "q5uTXQtlz8lI",
        "outputId": "8406f2e0-d7b5-44c1-c0e4-4b3a9a0b3852",
        "colab": {
          "base_uri": "https://localhost:8080/"
        }
      },
      "execution_count": 310,
      "outputs": [
        {
          "output_type": "execute_result",
          "data": {
            "text/plain": [
              "(3656, 16)"
            ]
          },
          "metadata": {},
          "execution_count": 310
        }
      ]
    },
    {
      "cell_type": "code",
      "source": [
        "# Gender, 10-year CHD risk, and diabetes\n",
        "sns.barplot(x=\"male\", y=\"TenYearCHD\", hue=\"diabetes\", data=data)\n",
        "plt.show()"
      ],
      "metadata": {
        "execution": {
          "iopub.status.busy": "2024-10-07T21:07:47.789629Z",
          "iopub.execute_input": "2024-10-07T21:07:47.790118Z",
          "iopub.status.idle": "2024-10-07T21:07:48.206354Z",
          "shell.execute_reply.started": "2024-10-07T21:07:47.790063Z",
          "shell.execute_reply": "2024-10-07T21:07:48.20516Z"
        },
        "trusted": true,
        "id": "MkcYul06z8lI",
        "outputId": "80dd0118-3f18-440d-8863-0279139a9f38",
        "colab": {
          "base_uri": "https://localhost:8080/",
          "height": 449
        }
      },
      "execution_count": 311,
      "outputs": [
        {
          "output_type": "display_data",
          "data": {
            "text/plain": [
              "<Figure size 640x480 with 1 Axes>"
            ],
            "image/png": "[encoded data removed]"
          },
          "metadata": {}
        }
      ]
    },
    {
      "cell_type": "code",
      "source": [
        "#  Gender, 10-year CHD risk, and smoking status\n",
        "sns.barplot(x=\"male\", y=\"TenYearCHD\", hue=\"currentSmoker\", data=data)\n",
        "plt.show()"
      ],
      "metadata": {
        "execution": {
          "iopub.status.busy": "2024-10-07T21:07:48.212031Z",
          "iopub.execute_input": "2024-10-07T21:07:48.212462Z",
          "iopub.status.idle": "2024-10-07T21:07:48.569733Z",
          "shell.execute_reply.started": "2024-10-07T21:07:48.21242Z",
          "shell.execute_reply": "2024-10-07T21:07:48.568508Z"
        },
        "trusted": true,
        "id": "uHTTm_KUz8lI",
        "outputId": "3e095404-5c75-4bda-d25a-9b1e5e17f34b",
        "colab": {
          "base_uri": "https://localhost:8080/",
          "height": 449
        }
      },
      "execution_count": 312,
      "outputs": [
        {
          "output_type": "display_data",
          "data": {
            "text/plain": [
              "<Figure size 640x480 with 1 Axes>"
            ],
            "image/png": "[encoded data removed]"
          },
          "metadata": {}
        }
      ]
    },
    {
      "cell_type": "markdown",
      "source": [
        "# Task 2 :  Import Libraries\n",
        "> Import the necessary libraries for data processing and model evaluation."
      ],
      "metadata": {
        "id": "tFHOZF71M8Ln"
      }
    },
    {
      "cell_type": "code",
      "source": [
        "import numpy as np\n",
        "import pandas as pd\n",
        "import random\n",
        "import matplotlib.pyplot as plt\n",
        "import seaborn as sns\n",
        "from sklearn.model_selection import train_test_split\n",
        "from prettytable import PrettyTable\n",
        "from sklearn.naive_bayes import GaussianNB\n",
        "from sklearn.preprocessing import StandardScaler\n",
        "from sklearn.metrics import accuracy_score\n",
        "from sklearn.tree import DecisionTreeClassifier\n",
        "from sklearn.linear_model import LogisticRegression\n",
        "from sklearn.metrics import accuracy_score, f1_score, recall_score, confusion_matrix, precision_score\n",
        "\n",
        "# This Python 3 environment comes with many helpful analytics libraries installed\n",
        "# It is defined by the kaggle/python Docker image: https://github.com/kaggle/docker-python\n",
        "# For example, here's several helpful packages to load\n",
        "\n",
        "import warnings\n",
        "warnings.filterwarnings(action=\"ignore\")\n",
        "\n",
        "# Input data files are available in the read-only \"../input/\" directory\n",
        "# For example, running this (by clicking run or pressing Shift+Enter) will list all files under the input directory\n",
        "\n",
        "import os\n",
        "for dirname, _, filenames in os.walk('/kaggle/input'):\n",
        "    for filename in filenames:\n",
        "        print(os.path.join(dirname, filename))\n",
        "\n",
        "# You can write up to 20GB to the current directory (/kaggle/working/) that gets preserved as output when you create a version using \"Save & Run All\"\n",
        "# You can also write temporary files to /kaggle/temp/, but they won't be saved outside of the current session"
      ],
      "metadata": {
        "_uuid": "8f2839f25d086af736a60e9eeb907d3b93b6e0e5",
        "_cell_guid": "b1076dfc-b9ad-4769-8c92-a6c4dae69d19",
        "execution": {
          "iopub.status.busy": "2024-10-07T21:07:47.635865Z",
          "iopub.execute_input": "2024-10-07T21:07:47.63663Z",
          "iopub.status.idle": "2024-10-07T21:07:47.649598Z",
          "shell.execute_reply.started": "2024-10-07T21:07:47.636564Z",
          "shell.execute_reply": "2024-10-07T21:07:47.648303Z"
        },
        "trusted": true,
        "id": "gRJs4wS-z8lD"
      },
      "execution_count": 313,
      "outputs": []
    },
    {
      "cell_type": "markdown",
      "source": [
        "# Logistic Regression"
      ],
      "metadata": {
        "id": "Kk9fa9k3z8lK"
      }
    },
    {
      "cell_type": "markdown",
      "source": [
        "## Task 3 :  Initialize Weights and Bias\n",
        ">  Initialize Weights and Bias as 0 and randomly.Note how these two initializations vary."
      ],
      "metadata": {
        "id": "G1VbTmsVQMEs"
      }
    },
    {
      "cell_type": "markdown",
      "source": [
        "**Weights (w):** A vector of zeros with one weight per feature.\n",
        "\n",
        "**Bias (b):** A scalar, initially set to zero.\n",
        "\n",
        "Both are returned from the function so that they can be used in the training process."
      ],
      "metadata": {
        "id": "r2qZXARpq-Mj"
      }
    },
    {
      "cell_type": "code",
      "source": [
        "def weightInitialization(n_features):\n",
        "    w = np.zeros((n_features, 1))\n",
        "    b = 0.0\n",
        "\n",
        "    return w, b"
      ],
      "metadata": {
        "execution": {
          "iopub.status.busy": "2024-10-07T21:07:48.636471Z",
          "iopub.execute_input": "2024-10-07T21:07:48.636865Z",
          "iopub.status.idle": "2024-10-07T21:07:48.647546Z",
          "shell.execute_reply.started": "2024-10-07T21:07:48.636822Z",
          "shell.execute_reply": "2024-10-07T21:07:48.646296Z"
        },
        "trusted": true,
        "id": "MdCRA1T-z8lK"
      },
      "execution_count": 314,
      "outputs": []
    },
    {
      "cell_type": "markdown",
      "source": [
        "Example print"
      ],
      "metadata": {
        "id": "kSZJKZ7dQjjC"
      }
    },
    {
      "cell_type": "code",
      "source": [
        "n_features = 5\n",
        "weights, bias = weightInitialization(n_features)\n",
        "\n",
        "\n",
        "print(\"weights (w):\\n\", weights)\n",
        "print(\"bias (b):\", bias)"
      ],
      "metadata": {
        "colab": {
          "base_uri": "https://localhost:8080/"
        },
        "id": "aT0oicweNeq2",
        "outputId": "ce0d2ca5-897f-4d0c-a249-ffd91b92916e"
      },
      "execution_count": 315,
      "outputs": [
        {
          "output_type": "stream",
          "name": "stdout",
          "text": [
            "weights (w):\n",
            " [[0.]\n",
            " [0.]\n",
            " [0.]\n",
            " [0.]\n",
            " [0.]]\n",
            "bias (b): 0.0\n"
          ]
        }
      ]
    },
    {
      "cell_type": "markdown",
      "source": [
        "## Task 4: Sigmoid Function"
      ],
      "metadata": {
        "id": "kfBnshZjQq1Z"
      }
    },
    {
      "cell_type": "markdown",
      "source": [
        "The sigmoid function transforms the input z into a value between 0 and 1, which can then be used for classification:\n",
        "\n",
        "> If the sigmoid output is close to 1, the model predicts the positive class (e.g., 1).\n",
        "\n",
        "> If the sigmoid output is close to 0, the model predicts the negative class (e.g., 0)."
      ],
      "metadata": {
        "id": "antyEWmarNpv"
      }
    },
    {
      "cell_type": "code",
      "source": [
        "def sigmoid_activation(z):\n",
        "    y = 1 / (1 + np.exp(-z))\n",
        "    return y\n"
      ],
      "metadata": {
        "execution": {
          "iopub.status.busy": "2024-10-07T21:07:48.649068Z",
          "iopub.execute_input": "2024-10-07T21:07:48.64953Z",
          "iopub.status.idle": "2024-10-07T21:07:48.659526Z",
          "shell.execute_reply.started": "2024-10-07T21:07:48.649474Z",
          "shell.execute_reply": "2024-10-07T21:07:48.658341Z"
        },
        "trusted": true,
        "id": "N8iLnmKPz8lK"
      },
      "execution_count": 316,
      "outputs": []
    },
    {
      "cell_type": "markdown",
      "source": [
        "## Task 5 : Model Optimization Function"
      ],
      "metadata": {
        "id": "avIFOeJPQx5C"
      }
    },
    {
      "cell_type": "markdown",
      "source": [
        "\n",
        "**Forward Propagation:**\n",
        "\n",
        "The function first calculates the weighted sum z using the weights w, input features X, and bias b.\n",
        "\n",
        "The sigmoid function is then applied to z to get the predicted values A, which are probabilities.\n",
        "\n",
        "\n",
        "**Backward Propagation (Gradients Calculation):**\n",
        "\n",
        "The gradients with respect to the weights (dw) and bias (db) are computed.\n",
        "\n",
        "dw is the partial derivative of the cost with respect to w, and is computed using the difference between the predicted and actual values (A - Y) and the input features X.\n",
        "\n",
        "db is the gradient with respect to the bias and is computed by averaging the difference between A and Y.\n",
        "\n",
        "Finally, the function returns the gradients (dw, db) and the cost, which are necessary for updating the model parameters during training (e.g., in gradient descent)."
      ],
      "metadata": {
        "id": "YPTrCFeeriKF"
      }
    },
    {
      "cell_type": "code",
      "source": [
        "def model_optimize(w, b, X, Y):\n",
        "    m = X.shape[1]\n",
        "\n",
        "    z = np.dot(w.T, X) + b\n",
        "    A = sigmoid_activation(z)\n",
        "\n",
        "    cost = -1/m * np.sum(Y * np.log(A) + (1 - Y) * np.log(1 - A))\n",
        "\n",
        "    dw = 1/m * np.dot(X, (A - Y).T)\n",
        "    db = 1/m * np.sum(A - Y)\n",
        "\n",
        "    grads = {\"dw\": dw, \"db\": db}\n",
        "    return grads, cost\n"
      ],
      "metadata": {
        "execution": {
          "iopub.status.busy": "2024-10-07T21:07:48.660854Z",
          "iopub.execute_input": "2024-10-07T21:07:48.661847Z",
          "iopub.status.idle": "2024-10-07T21:07:48.671819Z",
          "shell.execute_reply.started": "2024-10-07T21:07:48.661779Z",
          "shell.execute_reply": "2024-10-07T21:07:48.670727Z"
        },
        "trusted": true,
        "id": "utrxmBQDz8lK"
      },
      "execution_count": 317,
      "outputs": []
    },
    {
      "cell_type": "markdown",
      "source": [
        "## Task 6 : Model Optimization"
      ],
      "metadata": {
        "id": "QSsvy6YBQ7sV"
      }
    },
    {
      "cell_type": "markdown",
      "source": [
        "\n",
        "The function takes in the initial weights w, bias b, input data X, labels Y, a learning rate, and the number of iterations for training.\n",
        "\n",
        "**Training Loop:**\n",
        "\n",
        "It runs a loop for no_iterations, where in each iteration, it optimizes the model's parameters by calling model_optimize to compute the gradients (dw for weights and db for bias) and the current cost (error).\n",
        "\n",
        "**Gradient Descent:**\n",
        "\n",
        "Inside the loop, the weights w and bias b are updated by subtracting the gradients (dw, db) multiplied by the learning rate. This is the gradient descent step that adjusts the model parameters to minimize the cost function.\n",
        "\n",
        "**Cost Tracking:**\n",
        "\n",
        "Every 10 iterations, the current cost is appended to the costs list. This helps track how the cost decreases over time and provides insight into the model’s convergence.\n",
        "\n",
        "After completing all iterations, the function returns a dictionary coeff containing the final weights w and bias b, and a list of the costs over time. The updated weights and bias can be used to make predictions, while the costs help monitor the training process.\n"
      ],
      "metadata": {
        "id": "W81VTJSiusYg"
      }
    },
    {
      "cell_type": "code",
      "source": [
        "def model_fit(w, b, X, Y, learning_rate, no_iterations):\n",
        "    costs = []\n",
        "    for i in range(no_iterations):\n",
        "        grads, cost = model_optimize(w, b, X, Y)\n",
        "        dw = grads[\"dw\"]\n",
        "        db = grads[\"db\"]\n",
        "        w -= learning_rate * dw\n",
        "        b -= learning_rate * db\n",
        "        if i % 10 == 0:\n",
        "            costs.append(cost)\n",
        "    coeff = {\"w\": w, \"b\": b}\n",
        "    return coeff, costs\n"
      ],
      "metadata": {
        "execution": {
          "iopub.status.busy": "2024-10-07T21:07:48.673471Z",
          "iopub.execute_input": "2024-10-07T21:07:48.673978Z",
          "iopub.status.idle": "2024-10-07T21:07:48.685275Z",
          "shell.execute_reply.started": "2024-10-07T21:07:48.673905Z",
          "shell.execute_reply": "2024-10-07T21:07:48.684034Z"
        },
        "trusted": true,
        "id": "voHMOpPMz8lK"
      },
      "execution_count": 318,
      "outputs": []
    },
    {
      "cell_type": "markdown",
      "source": [
        "## Task 7 : Use Logistic Regression for Your Dataset"
      ],
      "metadata": {
        "id": "b6bbHYlbRxnM"
      }
    },
    {
      "cell_type": "markdown",
      "source": [
        "This function is responsible for making predictions using the learned weights (w), bias (b), and input features (X).\n",
        "\n",
        "**Linear Combination (z):**\n",
        "\n",
        "Calculates the weighted sum z using the formula z = np.dot(w.T, X) + b. This computes the linear combination of the weights and features, plus the bias.\n",
        "\n",
        "**Sigmoid Activation:**\n",
        "\n",
        "The function applies the sigmoid activation function to z by calling *sigmoid_activation(z)*. This converts the raw output z into probabilities A, where each value is between 0 and 1. This step transforms the linear output into something interpretable as a probability for binary classification.\n",
        "\n",
        "**Binary Prediction:**\n",
        "\n",
        "If a probability is greater than 0.5, the prediction is classified as 1 (positive class); otherwise, it is classified as 0 (negative class).\n",
        "\n",
        "**A > 0.5** creates a Boolean array, which is then converted to integers using **.astype(int)**."
      ],
      "metadata": {
        "id": "K3py5J_KvFHb"
      }
    },
    {
      "cell_type": "code",
      "source": [
        "def predict(w, b, X):\n",
        "    z = np.dot(w.T, X) + b\n",
        "    A = sigmoid_activation(z)\n",
        "    return (A > 0.5).astype(int)"
      ],
      "metadata": {
        "id": "bwkY0zN2YfDJ"
      },
      "execution_count": 319,
      "outputs": []
    },
    {
      "cell_type": "markdown",
      "source": [
        "**1. Data Preparation:**\n",
        "\n",
        "**data['TenYearCHD'] = data['TenYearCHD'].astype(int):**\n",
        "The target column TenYearCHD (the label indicating the presence or absence of CHD) is converted to integers (0 or 1).\n",
        "**X = data.drop(columns=['TenYearCHD']).values.T:**\n",
        "The input features (all columns except TenYearCHD) are selected and transposed. The result, X, is a matrix where each column is a feature, and each row represents a data instance.\n",
        "**Y = data['TenYearCHD'].values.reshape(1, -1):**\n",
        "The target column (TenYearCHD) is reshaped into a 1D row vector, so Y will have the shape (1, number_of_samples).\n",
        "\n",
        "**2. Feature Normalization:**\n",
        "\n",
        "**X = (X - np.mean(X, axis=1, keepdims=True)) / np.std(X, axis=1, keepdims=True):**\n",
        "The input features X are normalized by subtracting the mean and dividing by the standard deviation for each feature. This is important to ensure that all features have a similar scale, which improves the convergence of gradient-based optimization algorithms like gradient descent.\n",
        "\n",
        "**3. Train-Test Split:**\n",
        "\n",
        "**m = X.shape[1]:**\n",
        "m is the total number of data points (or samples).\n",
        "\n",
        "**train_size = int(0.7 * m):**\n",
        "The training set size is set to 70% of the data.\n",
        "\n",
        "**X_train, X_test = X[:, :train_size], X[:, train_size:]:**\n",
        "The input features are split into training (X_train) and test sets (X_test). The first 70% of the samples go to X_train, and the remaining 30% go to X_test.\n",
        "\n",
        "**Y_train, Y_test = Y[:, :train_size], Y[:, train_size:]:**\n",
        "Similarly, the target labels Y are split into training (Y_train) and test sets (Y_test).\n",
        "\n",
        "**4. Weight and Bias Initialization:**\n",
        "\n",
        "**n_features = X_train.shape[0]:**\n",
        "n_features holds the number of features (or input variables).\n",
        "\n",
        "**w, b = weightInitialization(n_features):**\n",
        "The weightInitialization function initializes the weight vector w (as a vector of zeros with the shape (n_features, 1)) and the bias b (as a scalar value initialized to 0).\n",
        "\n",
        "**5. Model Training Using Gradient Descent:**\n",
        "\n",
        "**coeff, costs = model_fit(w, b, X_train, Y_train, learning_rate, no_iterations):**\n",
        "The *model_fit* function performs gradient descent optimization to update w and b. It runs for no_iterations iterations, returning the final coefficients (w, b) and the list of costs over time.\n",
        "\n",
        "**6. Prediction on Training and Test Data:**\n",
        "\n",
        "**Y_pred_train = predict(coeff[\"w\"], coeff[\"b\"], X_train):**\n",
        "The *predict* function is called to make predictions on the training data using the learned weights and bias.\n",
        "\n",
        "**Y_pred_test = predict(coeff[\"w\"], coeff[\"b\"], X_test):**\n",
        "Similarly, predictions are made on the test set.\n",
        "\n",
        "**7. Accuracy Calculation:**\n",
        "\n",
        "**train_accuracy = np.mean(Y_pred_train == Y_train) * 100:**\n",
        "The accuracy of the model on the training set is computed by comparing the predicted values (Y_pred_train) with the actual labels (Y_train). The result is multiplied by 100 to convert it into a percentage.\n",
        "\n",
        "**test_accuracy = np.mean(Y_pred_test == Y_test) * 100:**\n",
        "The accuracy of the model on the test set is computed similarly.\n"
      ],
      "metadata": {
        "id": "R4b_tRg_xUjA"
      }
    },
    {
      "cell_type": "code",
      "source": [
        "data['TenYearCHD'] = data['TenYearCHD'].astype(int)\n",
        "\n",
        "X = data.drop(columns=['TenYearCHD']).values.T\n",
        "Y = data['TenYearCHD'].values.reshape(1, -1)\n",
        "\n",
        "X = (X - np.mean(X, axis=1, keepdims=True)) / np.std(X, axis=1, keepdims=True)\n",
        "\n",
        "m = X.shape[1]\n",
        "train_size = int(0.7 * m)\n",
        "X_train, X_test = X[:, :train_size], X[:, train_size:]\n",
        "Y_train, Y_test = Y[:, :train_size], Y[:, train_size:]\n",
        "n_features = X_train.shape[0]\n",
        "w, b = weightInitialization(n_features)\n",
        "\n",
        "learning_rate = 0.01\n",
        "no_iterations = 1000\n",
        "coeff, costs = model_fit(w, b, X_train, Y_train, learning_rate, no_iterations)\n",
        "\n",
        "\n",
        "Y_pred_train = predict(coeff[\"w\"], coeff[\"b\"], X_train)\n",
        "Y_pred_test = predict(coeff[\"w\"], coeff[\"b\"], X_test)\n",
        "\n",
        "\n",
        "train_accuracy = np.mean(Y_pred_train == Y_train) * 100\n",
        "test_accuracy = np.mean(Y_pred_test == Y_test) * 100\n",
        "\n",
        "print(f\"Training accuracy: {train_accuracy:.2f}%\")\n",
        "print(f\"Test accuracy: {test_accuracy:.2f}%\")"
      ],
      "metadata": {
        "colab": {
          "base_uri": "https://localhost:8080/"
        },
        "id": "flFVFupiTKU7",
        "outputId": "80f6f6d9-2b29-4a02-eba3-409697fb16fa"
      },
      "execution_count": 320,
      "outputs": [
        {
          "output_type": "stream",
          "name": "stdout",
          "text": [
            "Training accuracy: 85.42%\n",
            "Test accuracy: 84.96%\n"
          ]
        }
      ]
    },
    {
      "cell_type": "markdown",
      "source": [
        "## Task 8 : Plot the Cost for Each Epoch\n",
        "> Use the costs list to plot the cost vs. epoch curve."
      ],
      "metadata": {
        "id": "NBZbZtFVWJYr"
      }
    },
    {
      "cell_type": "markdown",
      "source": [
        "\n",
        "**costs:** A list that contains the cost values collected during training (every 10th iteration in this case).\n",
        "\n",
        "**epochs = np.arange(0, no_iterations, step=10):**\n",
        "This creates an array of epoch values (iteration steps) corresponding to the times at which the costs were collected. The costs are appended every 10 iterations during training, so the epochs array will reflect that.\n"
      ],
      "metadata": {
        "id": "hXE4bBEeysYq"
      }
    },
    {
      "cell_type": "code",
      "source": [
        "def plot_cost(costs, no_iterations):\n",
        "    epochs = np.arange(0, no_iterations, step=10)\n",
        "\n",
        "    plt.figure(figsize=(8, 6))\n",
        "    plt.plot(epochs, costs, marker='o', linestyle='-')\n",
        "    plt.xlabel('Epochs (iterations)')\n",
        "    plt.ylabel('Cost')\n",
        "    plt.title('Cost vs. Epoch Curve')\n",
        "    plt.show()\n",
        "learning_rate = 0.01\n",
        "no_iterations = 1000\n",
        "coeff, costs = model_fit(w, b, X_train, Y_train, learning_rate, no_iterations)\n",
        "plot_cost(costs, no_iterations)"
      ],
      "metadata": {
        "colab": {
          "base_uri": "https://localhost:8080/",
          "height": 564
        },
        "id": "jEqzETUbWJGL",
        "outputId": "f4d37ff0-9d2e-4be2-e80a-47206326d92a"
      },
      "execution_count": 321,
      "outputs": [
        {
          "output_type": "display_data",
          "data": {
            "text/plain": [
              "<Figure size 800x600 with 1 Axes>"
            ],
            "image/png": "[encoded data removed]"
          },
          "metadata": {}
        }
      ]
    },
    {
      "cell_type": "markdown",
      "source": [
        "## Task 9 : Plot Training vs Testing Accuracy"
      ],
      "metadata": {
        "id": "pCy6HCXSY8ch"
      }
    },
    {
      "cell_type": "markdown",
      "source": [
        "The function runs a loop for no_iterations iterations.\n",
        "In each iteration, it calls the *model_optimize* function to compute the *gradients (dw, db)* and the *cost (which represents the error)*.\n",
        "The weights w and bias b are updated using gradient descent by subtracting the learning rate multiplied by the gradients from the current weights and bias.\n",
        "\n",
        "Every 10 iterations (if i % 10 == 0), the model makes predictions on both the training and test sets.\n",
        "\n",
        "**Y_pred_train and Y_pred_tes**t are the predictions for the training and testing datasets, respectively.\n",
        "\n",
        "The **training accuracy (train_accuracy) and testing accuracy (test_accuracy)** are calculated by comparing the predicted labels with the actual labels and multiplying by 100 to get a percentage.\n",
        "\n",
        "The cost, training accuracy, and testing accuracy are stored in the respective lists (costs, train_accuracies, test_accuracies).\n",
        "\n",
        "It also prints the current iteration number, cost, and accuracies, providing real-time feedback during training.\n",
        "\n",
        "After completing all iterations, the function returns a dictionary coeff containing the final weights w and bias b, along with the lists costs, train_accuracies, and test_accuracies.\n",
        "\n",
        "\n",
        "**epochs = np.arange(0, no_iterations, step=10)** generates an array of iteration numbers (epochs) corresponding to the times when the accuracies were recorded (every 10 iterations).\n",
        "\n",
        "\n",
        "**Two curves are plotted: one for training accuracy (train_accuracies) and one for testing accuracy (test_accuracies). The curves are labeled for clarity.**\n",
        "\n",
        "The plot includes axis labels (Epochs (iterations) for x-axis and Accuracy (%) for y-axis), a title, and a legend to differentiate between training and testing accuracy curves.\n",
        "\n",
        "The plot shows how the training and testing accuracies evolve as the number of iterations (epochs) increases, allowing me to track the model's learning process."
      ],
      "metadata": {
        "id": "_6SWBS-Tzv9m"
      }
    },
    {
      "cell_type": "code",
      "source": [
        "def model_fit_another(w, b, X_train, Y_train, X_test, Y_test, learning_rate, no_iterations):\n",
        "    costs = []\n",
        "    train_accuracies = []\n",
        "    test_accuracies = []\n",
        "\n",
        "    for i in range(no_iterations):\n",
        "\n",
        "        grads, cost = model_optimize(w, b, X_train, Y_train)\n",
        "        dw = grads[\"dw\"]\n",
        "        db = grads[\"db\"]\n",
        "\n",
        "\n",
        "        w -= learning_rate * dw\n",
        "        b -= learning_rate * db\n",
        "\n",
        "\n",
        "        if i % 10 == 0:\n",
        "\n",
        "            Y_pred_train = predict(w, b, X_train)\n",
        "            Y_pred_test = predict(w, b, X_test)\n",
        "\n",
        "            train_accuracy = np.mean(Y_pred_train == Y_train) * 100\n",
        "            test_accuracy = np.mean(Y_pred_test == Y_test) * 100\n",
        "\n",
        "            costs.append(cost)\n",
        "            train_accuracies.append(train_accuracy)\n",
        "            test_accuracies.append(test_accuracy)\n",
        "\n",
        "            print(f\"Iteration {i}, Cost: {cost}, Train Accuracy: {train_accuracy:.2f}%, Test Accuracy: {test_accuracy:.2f}%\")\n",
        "\n",
        "    coeff = {\"w\": w, \"b\": b}\n",
        "    return coeff, costs, train_accuracies, test_accuracies\n",
        "\n",
        "\n",
        "def plot_accuracy(train_accuracies, test_accuracies, no_iterations):\n",
        "    epochs = np.arange(0, no_iterations, step=10)\n",
        "\n",
        "    plt.figure(figsize=(8, 6))\n",
        "    plt.plot(epochs, train_accuracies, marker='o', linestyle='-', label='Training Accuracy')\n",
        "    plt.plot(epochs, test_accuracies, marker='x', linestyle='-', label='Testing Accuracy')\n",
        "    plt.xlabel('Epochs (iterations)')\n",
        "    plt.ylabel('Accuracy (%)')\n",
        "    plt.title('Training vs Testing Accuracy')\n",
        "    plt.legend()\n",
        "    plt.grid(True)\n",
        "    plt.show()"
      ],
      "metadata": {
        "id": "ta2XCWfqZEGJ"
      },
      "execution_count": 322,
      "outputs": []
    },
    {
      "cell_type": "code",
      "source": [
        "n_features = X_train.shape[0]\n",
        "w, b = weightInitialization(n_features)\n",
        "\n",
        "\n",
        "learning_rate = 0.01\n",
        "no_iterations = 1000\n",
        "coeff, costs, train_accuracies, test_accuracies = model_fit_another(w, b, X_train, Y_train, X_test, Y_test, learning_rate, no_iterations)\n",
        "\n",
        "\n",
        "plot_accuracy(train_accuracies, test_accuracies, no_iterations)"
      ],
      "metadata": {
        "colab": {
          "base_uri": "https://localhost:8080/",
          "height": 1000
        },
        "id": "lU1GYuVjZdqK",
        "outputId": "449db1ae-7517-4a28-ce33-2a2f20f244cf"
      },
      "execution_count": 323,
      "outputs": [
        {
          "output_type": "stream",
          "name": "stdout",
          "text": [
            "Iteration 0, Cost: 0.6931471805599454, Train Accuracy: 81.16%, Test Accuracy: 80.67%\n",
            "Iteration 10, Cost: 0.6784356199229596, Train Accuracy: 81.59%, Test Accuracy: 80.77%\n",
            "Iteration 20, Cost: 0.6646724271327147, Train Accuracy: 82.02%, Test Accuracy: 81.04%\n",
            "Iteration 30, Cost: 0.6517770754145581, Train Accuracy: 82.53%, Test Accuracy: 81.59%\n",
            "Iteration 40, Cost: 0.6396769433807623, Train Accuracy: 82.81%, Test Accuracy: 81.68%\n",
            "Iteration 50, Cost: 0.628306627234376, Train Accuracy: 82.77%, Test Accuracy: 81.77%\n",
            "Iteration 60, Cost: 0.6176072550753736, Train Accuracy: 83.00%, Test Accuracy: 81.77%\n",
            "Iteration 70, Cost: 0.6075258275047971, Train Accuracy: 82.96%, Test Accuracy: 82.13%\n",
            "Iteration 80, Cost: 0.5980145993770204, Train Accuracy: 83.24%, Test Accuracy: 82.22%\n",
            "Iteration 90, Cost: 0.5890305107039902, Train Accuracy: 83.39%, Test Accuracy: 82.32%\n",
            "Iteration 100, Cost: 0.5805346699011168, Train Accuracy: 83.55%, Test Accuracy: 82.68%\n",
            "Iteration 110, Cost: 0.5724918893249459, Train Accuracy: 83.55%, Test Accuracy: 83.23%\n",
            "Iteration 120, Cost: 0.5648702709876422, Train Accuracy: 83.63%, Test Accuracy: 83.41%\n",
            "Iteration 130, Cost: 0.5576408391157418, Train Accuracy: 83.70%, Test Accuracy: 83.50%\n",
            "Iteration 140, Cost: 0.5507772155956997, Train Accuracy: 83.78%, Test Accuracy: 83.77%\n",
            "Iteration 150, Cost: 0.5442553341246927, Train Accuracy: 83.86%, Test Accuracy: 83.77%\n",
            "Iteration 160, Cost: 0.5380531889215896, Train Accuracy: 83.90%, Test Accuracy: 83.59%\n",
            "Iteration 170, Cost: 0.5321506140499023, Train Accuracy: 84.02%, Test Accuracy: 83.87%\n",
            "Iteration 180, Cost: 0.5265290896921676, Train Accuracy: 84.17%, Test Accuracy: 83.77%\n",
            "Iteration 190, Cost: 0.5211715720463123, Train Accuracy: 84.21%, Test Accuracy: 83.68%\n",
            "Iteration 200, Cost: 0.5160623438579578, Train Accuracy: 84.25%, Test Accuracy: 83.77%\n",
            "Iteration 210, Cost: 0.5111868829386899, Train Accuracy: 84.37%, Test Accuracy: 83.96%\n",
            "Iteration 220, Cost: 0.5065317463372635, Train Accuracy: 84.45%, Test Accuracy: 83.96%\n",
            "Iteration 230, Cost: 0.5020844681222492, Train Accuracy: 84.56%, Test Accuracy: 83.87%\n",
            "Iteration 240, Cost: 0.4978334689979852, Train Accuracy: 84.64%, Test Accuracy: 83.87%\n",
            "Iteration 250, Cost: 0.49376797621048896, Train Accuracy: 84.76%, Test Accuracy: 83.87%\n",
            "Iteration 260, Cost: 0.48987795240719234, Train Accuracy: 84.84%, Test Accuracy: 83.68%\n",
            "Iteration 270, Cost: 0.48615403229585213, Train Accuracy: 84.68%, Test Accuracy: 83.77%\n",
            "Iteration 280, Cost: 0.48258746610598036, Train Accuracy: 84.76%, Test Accuracy: 83.77%\n",
            "Iteration 290, Cost: 0.4791700689930741, Train Accuracy: 84.76%, Test Accuracy: 83.77%\n",
            "Iteration 300, Cost: 0.47589417564415554, Train Accuracy: 84.99%, Test Accuracy: 83.68%\n",
            "Iteration 310, Cost: 0.47275259944496884, Train Accuracy: 84.99%, Test Accuracy: 83.68%\n",
            "Iteration 320, Cost: 0.46973859565669845, Train Accuracy: 85.03%, Test Accuracy: 83.68%\n",
            "Iteration 330, Cost: 0.46684582812518627, Train Accuracy: 84.99%, Test Accuracy: 83.68%\n",
            "Iteration 340, Cost: 0.46406833911003437, Train Accuracy: 85.19%, Test Accuracy: 83.87%\n",
            "Iteration 350, Cost: 0.4614005218761784, Train Accuracy: 85.19%, Test Accuracy: 83.87%\n",
            "Iteration 360, Cost: 0.45883709573781345, Train Accuracy: 85.23%, Test Accuracy: 83.87%\n",
            "Iteration 370, Cost: 0.45637308328510146, Train Accuracy: 85.27%, Test Accuracy: 83.87%\n",
            "Iteration 380, Cost: 0.45400378955884596, Train Accuracy: 85.19%, Test Accuracy: 84.05%\n",
            "Iteration 390, Cost: 0.45172478296816115, Train Accuracy: 85.19%, Test Accuracy: 84.05%\n",
            "Iteration 400, Cost: 0.4495318777717863, Train Accuracy: 85.19%, Test Accuracy: 84.14%\n",
            "Iteration 410, Cost: 0.44742111796574774, Train Accuracy: 85.19%, Test Accuracy: 84.32%\n",
            "Iteration 420, Cost: 0.4453887624390525, Train Accuracy: 85.15%, Test Accuracy: 84.32%\n",
            "Iteration 430, Cost: 0.44343127127549026, Train Accuracy: 85.19%, Test Accuracy: 84.32%\n",
            "Iteration 440, Cost: 0.44154529309377377, Train Accuracy: 85.15%, Test Accuracy: 84.41%\n",
            "Iteration 450, Cost: 0.4397276533305227, Train Accuracy: 85.19%, Test Accuracy: 84.41%\n",
            "Iteration 460, Cost: 0.4379753433812297, Train Accuracy: 85.27%, Test Accuracy: 84.41%\n",
            "Iteration 470, Cost: 0.4362855105236198, Train Accuracy: 85.35%, Test Accuracy: 84.41%\n",
            "Iteration 480, Cost: 0.434655448555878, Train Accuracy: 85.35%, Test Accuracy: 84.50%\n",
            "Iteration 490, Cost: 0.43308258908928027, Train Accuracy: 85.35%, Test Accuracy: 84.50%\n",
            "Iteration 500, Cost: 0.4315644934409465, Train Accuracy: 85.35%, Test Accuracy: 84.50%\n",
            "Iteration 510, Cost: 0.43009884507786406, Train Accuracy: 85.38%, Test Accuracy: 84.50%\n",
            "Iteration 520, Cost: 0.4286834425681108, Train Accuracy: 85.38%, Test Accuracy: 84.50%\n",
            "Iteration 530, Cost: 0.4273161929994385, Train Accuracy: 85.38%, Test Accuracy: 84.59%\n",
            "Iteration 540, Cost: 0.4259951058291061, Train Accuracy: 85.42%, Test Accuracy: 84.59%\n",
            "Iteration 550, Cost: 0.4247182871321809, Train Accuracy: 85.42%, Test Accuracy: 84.59%\n",
            "Iteration 560, Cost: 0.4234839342184746, Train Accuracy: 85.42%, Test Accuracy: 84.69%\n",
            "Iteration 570, Cost: 0.42229033059091764, Train Accuracy: 85.46%, Test Accuracy: 84.78%\n",
            "Iteration 580, Cost: 0.4211358412205343, Train Accuracy: 85.46%, Test Accuracy: 84.78%\n",
            "Iteration 590, Cost: 0.4200189081152931, Train Accuracy: 85.46%, Test Accuracy: 84.78%\n",
            "Iteration 600, Cost: 0.41893804616200647, Train Accuracy: 85.46%, Test Accuracy: 84.78%\n",
            "Iteration 610, Cost: 0.4178918392221682, Train Accuracy: 85.46%, Test Accuracy: 84.78%\n",
            "Iteration 620, Cost: 0.41687893646415675, Train Accuracy: 85.46%, Test Accuracy: 84.78%\n",
            "Iteration 630, Cost: 0.4158980489156353, Train Accuracy: 85.50%, Test Accuracy: 84.87%\n",
            "Iteration 640, Cost: 0.41494794622124576, Train Accuracy: 85.50%, Test Accuracy: 84.87%\n",
            "Iteration 650, Cost: 0.41402745359184, Train Accuracy: 85.50%, Test Accuracy: 84.87%\n",
            "Iteration 660, Cost: 0.4131354489325487, Train Accuracy: 85.50%, Test Accuracy: 84.87%\n",
            "Iteration 670, Cost: 0.4122708601379321, Train Accuracy: 85.50%, Test Accuracy: 84.87%\n",
            "Iteration 680, Cost: 0.4114326625433387, Train Accuracy: 85.46%, Test Accuracy: 84.87%\n",
            "Iteration 690, Cost: 0.41061987652238885, Train Accuracy: 85.46%, Test Accuracy: 84.87%\n",
            "Iteration 700, Cost: 0.4098315652212339, Train Accuracy: 85.46%, Test Accuracy: 84.87%\n",
            "Iteration 710, Cost: 0.4090668324209108, Train Accuracy: 85.42%, Test Accuracy: 84.87%\n",
            "Iteration 720, Cost: 0.40832482051972874, Train Accuracy: 85.46%, Test Accuracy: 84.87%\n",
            "Iteration 730, Cost: 0.4076047086281861, Train Accuracy: 85.46%, Test Accuracy: 84.87%\n",
            "Iteration 740, Cost: 0.406905710769445, Train Accuracy: 85.42%, Test Accuracy: 84.87%\n",
            "Iteration 750, Cost: 0.4062270741788638, Train Accuracy: 85.38%, Test Accuracy: 84.87%\n",
            "Iteration 760, Cost: 0.40556807769653325, Train Accuracy: 85.38%, Test Accuracy: 84.87%\n",
            "Iteration 770, Cost: 0.4049280302471751, Train Accuracy: 85.38%, Test Accuracy: 84.87%\n",
            "Iteration 780, Cost: 0.4043062694021361, Train Accuracy: 85.38%, Test Accuracy: 84.87%\n",
            "Iteration 790, Cost: 0.4037021600185617, Train Accuracy: 85.38%, Test Accuracy: 84.87%\n",
            "Iteration 800, Cost: 0.40311509295116055, Train Accuracy: 85.38%, Test Accuracy: 84.87%\n",
            "Iteration 810, Cost: 0.4025444838322687, Train Accuracy: 85.42%, Test Accuracy: 84.87%\n",
            "Iteration 820, Cost: 0.40198977191620394, Train Accuracy: 85.42%, Test Accuracy: 84.87%\n",
            "Iteration 830, Cost: 0.4014504189841566, Train Accuracy: 85.42%, Test Accuracy: 84.87%\n",
            "Iteration 840, Cost: 0.4009259083061082, Train Accuracy: 85.42%, Test Accuracy: 84.87%\n",
            "Iteration 850, Cost: 0.40041574365648785, Train Accuracy: 85.42%, Test Accuracy: 84.87%\n",
            "Iteration 860, Cost: 0.39991944838048954, Train Accuracy: 85.42%, Test Accuracy: 84.87%\n",
            "Iteration 870, Cost: 0.39943656450816123, Train Accuracy: 85.42%, Test Accuracy: 84.87%\n",
            "Iteration 880, Cost: 0.3989666519135637, Train Accuracy: 85.42%, Test Accuracy: 84.87%\n",
            "Iteration 890, Cost: 0.39850928751645776, Train Accuracy: 85.42%, Test Accuracy: 84.87%\n",
            "Iteration 900, Cost: 0.3980640645241425, Train Accuracy: 85.42%, Test Accuracy: 84.87%\n",
            "Iteration 910, Cost: 0.39763059171120574, Train Accuracy: 85.42%, Test Accuracy: 84.78%\n",
            "Iteration 920, Cost: 0.39720849273509107, Train Accuracy: 85.42%, Test Accuracy: 84.87%\n",
            "Iteration 930, Cost: 0.39679740548550824, Train Accuracy: 85.42%, Test Accuracy: 84.96%\n",
            "Iteration 940, Cost: 0.3963969814658342, Train Accuracy: 85.42%, Test Accuracy: 84.96%\n",
            "Iteration 950, Cost: 0.3960068852047638, Train Accuracy: 85.42%, Test Accuracy: 84.96%\n",
            "Iteration 960, Cost: 0.3956267936965718, Train Accuracy: 85.42%, Test Accuracy: 84.96%\n",
            "Iteration 970, Cost: 0.3952563958684453, Train Accuracy: 85.42%, Test Accuracy: 84.96%\n",
            "Iteration 980, Cost: 0.3948953920734369, Train Accuracy: 85.42%, Test Accuracy: 84.96%\n",
            "Iteration 990, Cost: 0.3945434936076734, Train Accuracy: 85.42%, Test Accuracy: 84.96%\n"
          ]
        },
        {
          "output_type": "display_data",
          "data": {
            "text/plain": [
              "<Figure size 800x600 with 1 Axes>"
            ],
            "image/png": "[encoded data removed]"
          },
          "metadata": {}
        }
      ]
    },
    {
      "cell_type": "markdown",
      "source": [
        "## Task 10 : Use Smaller Portion of Training Data\n",
        ">Show how accuracy of the test dataset changes when you use 10%,20% and so on of the training dataset."
      ],
      "metadata": {
        "id": "bzkDXtMMZ2J6"
      }
    },
    {
      "cell_type": "markdown",
      "source": [
        "This version of the function does not track the cost or accuracy over time. It only focuses on returning the final coefficients (weights and bias) after training."
      ],
      "metadata": {
        "id": "fLPtgwGP0eKF"
      }
    },
    {
      "cell_type": "code",
      "source": [
        "def model_fit_coeff(w, b, X, Y, learning_rate, no_iterations):\n",
        "    for i in range(no_iterations):\n",
        "        grads, cost = model_optimize(w, b, X, Y)\n",
        "        dw = grads[\"dw\"]\n",
        "        db = grads[\"db\"]\n",
        "        w -= learning_rate * dw\n",
        "        b -= learning_rate * db\n",
        "\n",
        "    coeff = {\"w\": w, \"b\": b}\n",
        "    return coeff\n",
        ""
      ],
      "metadata": {
        "id": "QhZ3QuINb5Eb"
      },
      "execution_count": 324,
      "outputs": []
    },
    {
      "cell_type": "markdown",
      "source": [
        "**For each portion in the list portions:**\n",
        "\n",
        "\n",
        "**portion_size = int(portion * m_train):** calculates the number of samples corresponding to the current portion (e.g., for 10%, 20%, etc.).\n",
        "\n",
        "**X_train_portion = X_train[:, :portion_size]:** Selects the first portion_size examples from the training features.\n",
        "\n",
        "**Y_train_portion = Y_train[:, :portion_size]:** Selects the corresponding portion of labels from the training labels.\n",
        "\n",
        "**n_features = X_train_portion.shape[0]:** Determines the number of features in the portion of the training data.\n",
        "\n",
        "\n",
        "**coeff = model_fit_coeff(w, b, X_train_portion, Y_train_portion, learning_rate, no_iterations):** Trains the logistic regression model using the portion of the training data for a specified number of iterations, returning the final weights and bias.\n",
        "\n",
        "**Y_pred_test = predict(coeff[\"w\"], coeff[\"b\"], X_test):** Uses the trained model (with the final weights w and bias b) to make predictions on the test data.\n",
        "\n",
        "**test_accuracy = np.mean(Y_pred_test == Y_test) * 100:** Compares the predicted labels with the true labels for the test data and calculates the test accuracy in percentage.\n",
        "\n",
        "The calculated test_accuracy is appended to the test_accuracies list.\n",
        "The function prints the test accuracy for the current portion of the training data.\n",
        "\n",
        "After looping through all portions of the training data, the function returns the test_accuracies list, which contains the test accuracy for each portion of the training data used.\n",
        "\n",
        "**The function evaluates how the model's test accuracy changes when it is trained with different amounts of the training data.**"
      ],
      "metadata": {
        "id": "zDq8vU_g0yqN"
      }
    },
    {
      "cell_type": "code",
      "source": [
        "def evaluate_model_with_portions(X_train, Y_train, X_test, Y_test, portions, learning_rate, no_iterations):\n",
        "    test_accuracies = []\n",
        "\n",
        "    for portion in portions:\n",
        "\n",
        "        m_train = X_train.shape[1]\n",
        "        portion_size = int(portion * m_train)\n",
        "\n",
        "        X_train_portion = X_train[:, :portion_size]\n",
        "        Y_train_portion = Y_train[:, :portion_size]\n",
        "\n",
        "        n_features = X_train_portion.shape[0]\n",
        "        w, b = weightInitialization(n_features)\n",
        "\n",
        "        coeff = model_fit_coeff(w, b, X_train_portion, Y_train_portion, learning_rate, no_iterations)\n",
        "\n",
        "        Y_pred_test = predict(coeff[\"w\"], coeff[\"b\"], X_test)\n",
        "        test_accuracy = np.mean(Y_pred_test == Y_test) * 100\n",
        "        test_accuracies.append(test_accuracy)\n",
        "\n",
        "        print(f\"Training with {int(portion*100)}% of training data: Test Accuracy = {test_accuracy:.2f}%\")\n",
        "\n",
        "    return test_accuracies"
      ],
      "metadata": {
        "id": "suCdW3yMaISF"
      },
      "execution_count": 325,
      "outputs": []
    },
    {
      "cell_type": "code",
      "source": [
        "def plot_accuracy_vs_portions(portions, test_accuracies):\n",
        "    portion_percentages = [int(portion * 100) for portion in portions]\n",
        "\n",
        "    plt.figure(figsize=(8, 6))\n",
        "    plt.plot(portion_percentages, test_accuracies, marker='o', linestyle='-')\n",
        "    plt.xlabel('Portion of Training Data (%)')\n",
        "    plt.ylabel('Test Accuracy (%)')\n",
        "    plt.title('Test Accuracy vs Portion of Training Data')\n",
        "    plt.grid(True)\n",
        "    plt.show()\n",
        "portions = [0.1, 0.2, 0.3, 0.4, 0.5, 0.6, 0.7, 0.8, 0.9, 1.0]\n",
        "\n",
        "learning_rate = 0.01\n",
        "no_iterations = 1000\n",
        "\n",
        "# Evaluate the model for different portions of training data\n",
        "test_accuracies = evaluate_model_with_portions(X_train, Y_train, X_test, Y_test, portions, learning_rate, no_iterations)\n",
        "\n",
        "# Plot the test accuracy vs portion of training data\n",
        "plot_accuracy_vs_portions(portions, test_accuracies)\n",
        ""
      ],
      "metadata": {
        "colab": {
          "base_uri": "https://localhost:8080/",
          "height": 738
        },
        "id": "ByvvErbUaYiQ",
        "outputId": "45a0af54-ffb5-4d74-b473-b1864b82aa2b"
      },
      "execution_count": 326,
      "outputs": [
        {
          "output_type": "stream",
          "name": "stdout",
          "text": [
            "Training with 10% of training data: Test Accuracy = 84.23%\n",
            "Training with 20% of training data: Test Accuracy = 84.69%\n",
            "Training with 30% of training data: Test Accuracy = 84.87%\n",
            "Training with 40% of training data: Test Accuracy = 84.96%\n",
            "Training with 50% of training data: Test Accuracy = 85.23%\n",
            "Training with 60% of training data: Test Accuracy = 84.69%\n",
            "Training with 70% of training data: Test Accuracy = 84.59%\n",
            "Training with 80% of training data: Test Accuracy = 84.50%\n",
            "Training with 90% of training data: Test Accuracy = 84.87%\n",
            "Training with 100% of training data: Test Accuracy = 84.96%\n"
          ]
        },
        {
          "output_type": "display_data",
          "data": {
            "text/plain": [
              "<Figure size 800x600 with 1 Axes>"
            ],
            "image/png": "[encoded data removed]"
          },
          "metadata": {}
        }
      ]
    },
    {
      "cell_type": "markdown",
      "source": [
        "## Task 11 : L1 and L2 Regularization"
      ],
      "metadata": {
        "id": "xGSv6K3bcCoy"
      }
    },
    {
      "cell_type": "markdown",
      "source": [
        "\n",
        "**m = X.shape[1]:** Retrieves the number of training examples.\n",
        "\n",
        "**z = np.dot(w.T, X) + b:** Computes the weighted sum of the inputs plus the bias.\n",
        "\n",
        "**A = sigmoid_activation(z):** Applies the sigmoid activation function to z to get predicted probabilities A.\n",
        "\n",
        "The function checks whether to apply L1 or L2 regularization.\n",
        "\n",
        "**L1 Regularization (reg == \"L1\"):** Adds a penalty based on the absolute values of the weights.\n",
        "\n",
        "**L2 Regularization (reg == \"L2\"):** Adds a penalty based on the square of the weights.\n",
        "\n",
        "**If no regularization is applied (reg == None):** The regularization term is set to 0.\n",
        "\n",
        "**cost = -1/m * np.sum(Y * np.log(A) + (1 - Y) * np.log(1 - A)) + reg_term:** Computes the cost (error) using the binary loss function, with the regularization term added.\n",
        "\n",
        "**dz = A - Y:** Computes the error (dz), which is the difference between predicted values (A) and the true labels (Y).\n",
        "\n",
        "**dw = 1/m * np.dot(X, dz.T):** Computes the gradient dw of the cost function with respect to the weights w.\n",
        "\n",
        "**db = 1/m * np.sum(dz):** Computes the gradient db of the cost function with respect to the bias b.\n",
        "\n",
        "**grads = {\"dw\": dw, \"db\": db}:** The function stores the computed gradients for both the weights (dw) and bias (db) in a dictionary called grads.\n",
        "\n",
        "It returns the gradients and the cost function, which are needed to update the model parameters during gradient descent."
      ],
      "metadata": {
        "id": "3vkkSf7U1a40"
      }
    },
    {
      "cell_type": "code",
      "source": [
        "def model_optimize_reg(w, b, X, Y, reg=None, lambd=0.1):\n",
        "    m = X.shape[1]\n",
        "    Y = Y.reshape(1, -1)\n",
        "    z = np.dot(w.T, X) + b\n",
        "    A = sigmoid_activation(z)\n",
        "\n",
        "    if reg == \"L1\":\n",
        "        reg_term = (lambd / (2 * m)) * np.sum(np.abs(w))\n",
        "    elif reg == \"L2\":\n",
        "        reg_term = (lambd / (2 * m)) * np.sum(w**2)\n",
        "    else:\n",
        "        reg_term = 0\n",
        "\n",
        "    cost = -1/m * np.sum(Y * np.log(A) + (1 - Y) * np.log(1 - A)) + reg_term\n",
        "    dz = A - Y\n",
        "    dw = 1/m * np.dot(X,dz.T)\n",
        "    db = 1/m * np.sum(dz)\n",
        "\n",
        "    if reg == \"L1\":\n",
        "        dw += (lambd / m) * np.sign(w)\n",
        "    elif reg == \"L2\":\n",
        "        dw += (lambd / m) * w\n",
        "\n",
        "    grads = {\"dw\": dw, \"db\": db}\n",
        "\n",
        "\n",
        "    return grads, cost"
      ],
      "metadata": {
        "id": "H2YqfTyi2DiP"
      },
      "execution_count": 327,
      "outputs": []
    },
    {
      "cell_type": "markdown",
      "source": [
        "## Task 12 : Accuracy Change with Regularization\n",
        ">  Train the model for different regularization values and epochs. Display test accuracies in a\n",
        " table."
      ],
      "metadata": {
        "id": "EDNO2iZWcKvi"
      }
    },
    {
      "cell_type": "code",
      "source": [
        "def model_fit_reg(w, b, X, Y, learning_rate, no_iterations, reg=None, lambd=0.1):\n",
        "    for i in range(no_iterations):\n",
        "        grads, cost = model_optimize_reg(w, b, X, Y, reg, lambd)\n",
        "        dw = grads[\"dw\"]\n",
        "        db = grads[\"db\"]\n",
        "\n",
        "        w -= learning_rate * dw\n",
        "        b -= learning_rate * db\n",
        "\n",
        "    coeff = {\"w\": w, \"b\": b}\n",
        "    return coeff"
      ],
      "metadata": {
        "id": "cd4EQpUKcNOk"
      },
      "execution_count": 328,
      "outputs": []
    },
    {
      "cell_type": "markdown",
      "source": [
        "This function is designed to evaluate the performance of a logistic regression model with different combinations of regularization types, regularization strengths (lambda values), and the number of training epochs (iterations). It returns a table showing the test accuracy for each combination.\n",
        "\n",
        "\n",
        "**table = PrettyTable([\"Regularization\", \"Lambda\", \"Epochs\", \"Test Accuracy (%)\"]):** A table is created using **PrettyTable** to store the results. Each row of the table will include the regularization type, lambda value, number of epochs, and the corresponding test accuracy.\n",
        "\n",
        "\n",
        "The function uses three nested loops to iterate over all combinations of regularization types, lambda values, and epoch counts:\n",
        "\n",
        "**for reg in regularizations:** Loops through the different types of regularization (e.g., \"L1\", \"L2\", or None).\n",
        "\n",
        "**for lambd in lambdas:** Loops through the different regularization strengths (lambda values).\n",
        "\n",
        "**for epoch in epochs:** Loops through the different numbers of epochs (iterations) for training.\n",
        "\n",
        "\n",
        "For each combination of regularization type, lambda, and epochs:\n",
        "\n",
        "The *model_fit_reg* function is called to train the model using the current combination of hyperparameters (regularization type, lambda, and epochs). The function returns the trained weights and bias.\n",
        "\n",
        "**Y_pred_test = predict(coeff[\"w\"], coeff[\"b\"], X_test):** After training, the model is used to make predictions on the test data.\n",
        "\n",
        "**test_accuracy = np.mean(Y_pred_test == Y_test) * 100:** The test accuracy is calculated by comparing the predicted labels with the actual labels from Y_test.\n",
        "\n",
        "\n",
        "**table.add_row([reg, lambd, epoch, test_accuracy]):** The results for the current combination of regularization type, lambda, and epochs are added to the table, including the calculated test accuracy.\n",
        "\n",
        "After all combinations are evaluated, the function returns the filled table containing the results."
      ],
      "metadata": {
        "id": "dEODr7VZ2mSx"
      }
    },
    {
      "cell_type": "code",
      "source": [
        "def evaluate_model_reg(X_train, Y_train, X_test, Y_test, regularizations, lambdas, learning_rate, epochs):\n",
        "    table = PrettyTable([\"Regularization\", \"Lambda\", \"Epochs\", \"Test Accuracy (%)\"])\n",
        "\n",
        "    for reg in regularizations:\n",
        "        for lambd in lambdas:\n",
        "            for epoch in epochs:\n",
        "\n",
        "                n_features = X_train.shape[0]\n",
        "                w, b = weightInitialization(n_features)\n",
        "\n",
        "\n",
        "                coeff = model_fit_reg(w, b, X_train, Y_train, learning_rate, epoch, reg, lambd)\n",
        "\n",
        "\n",
        "                Y_pred_test = predict(coeff[\"w\"], coeff[\"b\"], X_test)\n",
        "                test_accuracy = np.mean(Y_pred_test == Y_test) * 100\n",
        "\n",
        "\n",
        "                table.add_row([reg, lambd, epoch, test_accuracy])\n",
        "\n",
        "    return table"
      ],
      "metadata": {
        "id": "isW5iRvZc-xw"
      },
      "execution_count": 329,
      "outputs": []
    },
    {
      "cell_type": "code",
      "source": [
        "regularizations = [\"L1\", \"L2\", None]\n",
        "lambdas = [0.01, 0.1, 1]\n",
        "epochs = [500, 1000, 1500]\n",
        "\n",
        "\n",
        "learning_rate = 0.01\n",
        "\n",
        "\n",
        "results_table = evaluate_model_reg(X_train, Y_train, X_test, Y_test, regularizations, lambdas, learning_rate, epochs)\n",
        "\n",
        "print(results_table)"
      ],
      "metadata": {
        "colab": {
          "base_uri": "https://localhost:8080/"
        },
        "id": "HvzwvG9ydfGx",
        "outputId": "d7db7318-d5a0-49f6-be68-a66d59ab58ad"
      },
      "execution_count": 330,
      "outputs": [
        {
          "output_type": "stream",
          "name": "stdout",
          "text": [
            "+----------------+--------+--------+-------------------+\n",
            "| Regularization | Lambda | Epochs | Test Accuracy (%) |\n",
            "+----------------+--------+--------+-------------------+\n",
            "|       L1       |  0.01  |  500   |  84.5031905195989 |\n",
            "|       L1       |  0.01  |  1000  | 84.95897903372835 |\n",
            "|       L1       |  0.01  |  1500  |  85.3236098450319 |\n",
            "|       L1       |  0.1   |  500   |  84.5031905195989 |\n",
            "|       L1       |  0.1   |  1000  | 84.95897903372835 |\n",
            "|       L1       |  0.1   |  1500  |  85.3236098450319 |\n",
            "|       L1       |   1    |  500   |  84.5031905195989 |\n",
            "|       L1       |   1    |  1000  | 84.77666362807658 |\n",
            "|       L1       |   1    |  1500  | 85.23245214220601 |\n",
            "|       L2       |  0.01  |  500   |  84.5031905195989 |\n",
            "|       L2       |  0.01  |  1000  | 84.95897903372835 |\n",
            "|       L2       |  0.01  |  1500  |  85.3236098450319 |\n",
            "|       L2       |  0.1   |  500   |  84.5031905195989 |\n",
            "|       L2       |  0.1   |  1000  | 84.95897903372835 |\n",
            "|       L2       |  0.1   |  1500  |  85.3236098450319 |\n",
            "|       L2       |   1    |  500   |  84.5031905195989 |\n",
            "|       L2       |   1    |  1000  | 84.95897903372835 |\n",
            "|       L2       |   1    |  1500  |  85.3236098450319 |\n",
            "|      None      |  0.01  |  500   |  84.5031905195989 |\n",
            "|      None      |  0.01  |  1000  | 84.95897903372835 |\n",
            "|      None      |  0.01  |  1500  |  85.3236098450319 |\n",
            "|      None      |  0.1   |  500   |  84.5031905195989 |\n",
            "|      None      |  0.1   |  1000  | 84.95897903372835 |\n",
            "|      None      |  0.1   |  1500  |  85.3236098450319 |\n",
            "|      None      |   1    |  500   |  84.5031905195989 |\n",
            "|      None      |   1    |  1000  | 84.95897903372835 |\n",
            "|      None      |   1    |  1500  |  85.3236098450319 |\n",
            "+----------------+--------+--------+-------------------+\n"
          ]
        }
      ]
    },
    {
      "cell_type": "markdown",
      "source": [
        "# **Models from sklearn**"
      ],
      "metadata": {
        "id": "FWqAitSPfgfJ"
      }
    },
    {
      "cell_type": "markdown",
      "source": [
        "## Task 13 :  Logistic Regression Class from sklearn\n",
        ">Use the Logistic Regression model from the sklearn library and find the accuracy after training."
      ],
      "metadata": {
        "id": "6g4MaOW_fXUZ"
      }
    },
    {
      "cell_type": "markdown",
      "source": [
        "Defined the target and feature variables.\n",
        "\n",
        "Split the data into training and testing sets, ensuring that I can evaluate the model's performance on unseen data.\n",
        "\n",
        "Standardized the feature data, ensuring that all features are on a comparable scale, which improves the performance of many machine learning algorithms, including logistic regression."
      ],
      "metadata": {
        "id": "sUPhuIdt3Wvn"
      }
    },
    {
      "cell_type": "code",
      "source": [
        "X = data.drop(columns=['TenYearCHD'])  # Features\n",
        "Y = data['TenYearCHD']  # Target\n",
        "\n",
        "X_train, X_test, Y_train, Y_test = train_test_split(X, Y, test_size=0.3, random_state=42)\n",
        "\n",
        "scaler = StandardScaler()\n",
        "X_train = scaler.fit_transform(X_train)\n",
        "X_test = scaler.transform(X_test)"
      ],
      "metadata": {
        "id": "Jz0RVZ7ii6mn"
      },
      "execution_count": 331,
      "outputs": []
    },
    {
      "cell_type": "markdown",
      "source": [
        "A logistic regression model is created and trained using the training data with the help of sklearn.\n",
        "\n",
        "The model predicts the target labels for both the training and test datasets.\n",
        "\n",
        "The accuracy for both the training and test datasets is calculated and printed to assess the model's performance."
      ],
      "metadata": {
        "id": "AnsVKGDa3xsA"
      }
    },
    {
      "cell_type": "code",
      "source": [
        "log_reg = LogisticRegression()\n",
        "log_reg.fit(X_train, Y_train)\n",
        "\n",
        "Y_pred_train = log_reg.predict(X_train)\n",
        "Y_pred_test = log_reg.predict(X_test)\n",
        "\n",
        "train_accuracy = accuracy_score(Y_train, Y_pred_train) * 100\n",
        "test_accuracy = accuracy_score(Y_test, Y_pred_test) * 100\n",
        "\n",
        "print(f\"Training accuracy: {train_accuracy:.2f}%\")\n",
        "print(f\"Test accuracy: {test_accuracy:.2f}%\")\n"
      ],
      "metadata": {
        "colab": {
          "base_uri": "https://localhost:8080/"
        },
        "id": "to_-WIFPfoEh",
        "outputId": "cd27d025-25f6-4ee9-abdf-38fed6ad1870"
      },
      "execution_count": 332,
      "outputs": [
        {
          "output_type": "stream",
          "name": "stdout",
          "text": [
            "Training accuracy: 85.70%\n",
            "Test accuracy: 84.69%\n"
          ]
        }
      ]
    },
    {
      "cell_type": "markdown",
      "source": [
        "## Task 14 : Decision Trees from sklearn\n",
        "> Use the Decision Tree model from the sklearn library and find the accuracy after training."
      ],
      "metadata": {
        "id": "iRGkqutdiUOh"
      }
    },
    {
      "cell_type": "markdown",
      "source": [
        "A decision tree is a supervised learning algorithm used for both classification and regression tasks. It builds a tree-like model of decisions based on the input features.\n",
        "\n",
        "The random_state=42 ensures reproducibility by fixing the random seed, so the same decision tree is generated each time the code is run.\n",
        "\n",
        "A decision tree model is created and trained using the training data with the help of sklearn.\n",
        "\n",
        "The model predicts the target labels for both the training and test datasets.\n",
        "\n",
        "The accuracy for both the training and test datasets is calculated and printed to assess the model's performance.\n",
        "\n",
        "**Overfitting:**Decision trees are prone to overfitting, which means they might perform very well on the training data (high training accuracy) but poorly on the test data (low test accuracy). This can happen if the tree grows too deep and starts to memorize the training data rather than generalizing to new data."
      ],
      "metadata": {
        "id": "-YShads44FED"
      }
    },
    {
      "cell_type": "code",
      "source": [
        "decision_tree = DecisionTreeClassifier(random_state=42)\n",
        "decision_tree.fit(X_train, Y_train)\n",
        "\n",
        "Y_pred_train = decision_tree.predict(X_train)\n",
        "Y_pred_test = decision_tree.predict(X_test)\n",
        "\n",
        "train_accuracy = accuracy_score(Y_train, Y_pred_train) * 100\n",
        "test_accuracy = accuracy_score(Y_test, Y_pred_test) * 100\n",
        "\n",
        "print(f\"Training accuracy: {train_accuracy:.2f}%\")\n",
        "print(f\"Test accuracy: {test_accuracy:.2f}%\")\n"
      ],
      "metadata": {
        "colab": {
          "base_uri": "https://localhost:8080/"
        },
        "id": "tM8HTOJQiTqh",
        "outputId": "41ba3d53-580f-470f-d946-67efe72dee5b"
      },
      "execution_count": 333,
      "outputs": [
        {
          "output_type": "stream",
          "name": "stdout",
          "text": [
            "Training accuracy: 100.00%\n",
            "Test accuracy: 75.75%\n"
          ]
        }
      ]
    },
    {
      "cell_type": "markdown",
      "source": [
        "## Task 15 : Naive Bayes from sklearn\n",
        ">  Use the Naive Bayes model from the sklearn library and find the accuracy after training."
      ],
      "metadata": {
        "id": "qp2XorYdjFl4"
      }
    },
    {
      "cell_type": "markdown",
      "source": [
        "**GaussianNB** is a Naive Bayes classifier that assumes the features follow a Gaussian (normal) distribution. It’s a probabilistic classifier often used for classification tasks, particularly binary classification.\n",
        "\n",
        "A Naive Bayes model (specifically, GaussianNB) is created and trained using the training data with the help of sklearn.\n",
        "\n",
        "The model predicts the target labels for both the training and test datasets.\n",
        "\n",
        "The accuracy for both the training and test datasets is calculated and printed to assess the model's performance.\n",
        "\n",
        "**Naive Bayes Assumption:**The Gaussian Naive Bayes algorithm assumes that the features are normally distributed. If the features deviate significantly from this assumption, the model might not perform optimally.\n",
        "\n",
        "**Overfitting:** Naive Bayes models tend to be less prone to overfitting compared to decision trees because they are based on probabilistic assumptions. However, the model might underperform if the assumption of feature independence is not valid in the dataset.\n"
      ],
      "metadata": {
        "id": "phhY5cRj4zDu"
      }
    },
    {
      "cell_type": "code",
      "source": [
        "naive_bayes = GaussianNB()\n",
        "naive_bayes.fit(X_train, Y_train)\n",
        "\n",
        "Y_pred_train = naive_bayes.predict(X_train)\n",
        "Y_pred_test = naive_bayes.predict(X_test)\n",
        "\n",
        "train_accuracy = accuracy_score(Y_train, Y_pred_train) * 100\n",
        "test_accuracy = accuracy_score(Y_test, Y_pred_test) * 100\n",
        "\n",
        "print(f\"Training accuracy: {train_accuracy:.2f}%\")\n",
        "print(f\"Test accuracy: {test_accuracy:.2f}%\")\n"
      ],
      "metadata": {
        "colab": {
          "base_uri": "https://localhost:8080/"
        },
        "id": "l3U4T0pBjLDx",
        "outputId": "18dc34b2-0700-493c-d362-1a395beeff70"
      },
      "execution_count": 334,
      "outputs": [
        {
          "output_type": "stream",
          "name": "stdout",
          "text": [
            "Training accuracy: 82.88%\n",
            "Test accuracy: 81.22%\n"
          ]
        }
      ]
    },
    {
      "cell_type": "markdown",
      "source": [
        "# Task 16 :  Calculate different accuracy metrics\n",
        ">  Find accuracy, F1 Score, Recall, Confusion Matrix etc"
      ],
      "metadata": {
        "id": "O_OF5-sFkCl5"
      }
    },
    {
      "cell_type": "markdown",
      "source": [
        "**accuracy_score** This calculates the accuracy, which is the ratio of correct predictions to the total number of predictions.\n",
        "\n",
        "**f1_score:** This calculates the F1 score, which is the harmonic mean of precision and recall. It provides a balanced evaluation metric, especially when there is an uneven class distribution.\n",
        "\n",
        "**recall_score:** This calculates the recall (also known as sensitivity or true positive rate). Recall is the ratio of true positives to the sum of true positives and false negatives, indicating how well the model identifies the positive class.\n",
        "\n",
        "**precision_score:** This calculates the precision, which is the ratio of true positives to the sum of true positives and false positives. It measures how many of the predicted positive results are truly positive.\n",
        "\n",
        "**confusion_matrix:** This creates the confusion matrix, which shows the breakdown of true positives, true negatives, false positives, and false negatives.\n",
        "\n",
        "A confusion matrix is plotted to provide insights into the model's classification results.\n",
        "\n",
        "**Why Naive Bayes**\n",
        "\n",
        "\n",
        "> I used Naive Bayes here because it is a simple, fast, and effective algorithm for classification tasks, particularly when certain conditions in the data make it a good fit.It has low time complexity, making it efficient for real-time applications or when working with limited computational resources."
      ],
      "metadata": {
        "id": "csBEwqtg5dhs"
      }
    },
    {
      "cell_type": "code",
      "source": [
        "naive_bayes = GaussianNB()\n",
        "naive_bayes.fit(X_train, Y_train)\n",
        "\n",
        "Y_pred_test = naive_bayes.predict(X_test)\n",
        "\n",
        "accuracy = accuracy_score(Y_test, Y_pred_test)*100\n",
        "f1 = f1_score(Y_test, Y_pred_test)\n",
        "recall = recall_score(Y_test, Y_pred_test)\n",
        "precision = precision_score(Y_test, Y_pred_test)\n",
        "conf_matrix = confusion_matrix(Y_test, Y_pred_test)\n",
        "\n",
        "print(f\"Accuracy: {accuracy:.2f}\")\n",
        "print(f\"F1 Score: {f1:.2f}\")\n",
        "print(f\"Recall: {recall:.2f}\")\n",
        "print(f\"Precision: {precision:.2f}\")\n",
        "\n",
        "def plot_confusion_matrix(Y_test, Y_pred):\n",
        "    cm = confusion_matrix(Y_test, Y_pred)\n",
        "    plt.figure(figsize=(6,4))\n",
        "    sns.heatmap(cm, annot=True, fmt='g', cmap='Blues', cbar=False)\n",
        "    plt.xlabel('Predicted labels')\n",
        "    plt.ylabel('True labels')\n",
        "    plt.title('Confusion Matrix')\n",
        "    plt.show()\n",
        "\n",
        "plot_confusion_matrix(Y_test, Y_pred_test)\n"
      ],
      "metadata": {
        "colab": {
          "base_uri": "https://localhost:8080/",
          "height": 479
        },
        "id": "MBK-MZDYkIXx",
        "outputId": "e957805c-263c-4860-fd24-463ce36a99f3"
      },
      "execution_count": 335,
      "outputs": [
        {
          "output_type": "stream",
          "name": "stdout",
          "text": [
            "Accuracy: 81.22\n",
            "F1 Score: 0.24\n",
            "Recall: 0.18\n",
            "Precision: 0.33\n"
          ]
        },
        {
          "output_type": "display_data",
          "data": {
            "text/plain": [
              "<Figure size 600x400 with 1 Axes>"
            ],
            "image/png": "[encoded data removed]"
          },
          "metadata": {}
        }
      ]
    }
  ]
}